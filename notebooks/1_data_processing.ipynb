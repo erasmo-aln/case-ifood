{
 "cells": [
  {
   "cell_type": "markdown",
   "metadata": {
    "application/vnd.databricks.v1+cell": {
     "cellMetadata": {},
     "inputWidgets": {},
     "nuid": "b77ae776-0ad0-4fd7-ad35-05c1bed91090",
     "showTitle": false,
     "tableResultSettingsMap": {},
     "title": ""
    }
   },
   "source": [
    "\n",
    "# Notebook `1_data_processing.ipynb`\n",
    "\n",
    "## Objetivo\n",
    "Este notebook é responsável por todo o pipeline de processamento de dados do case, desde a ingestão dos dados brutos em formato JSON até a criação das tabelas finais de modelagem (ABTs). O processo segue a arquitetura Medallion, transformando os dados através das camadas Bronze, Silver e Gold.\n",
    "\n",
    "## Instruções de Uso\n",
    "**Configuração Obrigatória:** Antes de executar o notebook, defina a variável `PATH_VOLUME` na célula 6. Este caminho será o diretório raiz onde todas as tabelas das camadas Bronze, Silver e Gold serão salvas e lidas. Esta etapa foi desenvolvida no Databricks Free Edition, com o uso dos `Volumes`.\n",
    "\n",
    "```PATH_VOLUME = \"/Volumes/workspace/default/case_ifood\"```\n",
    "\n",
    "## Estrutura de Saída (Output)\n",
    "Ao final da execução completa, as seguintes tabelas em formato Parquet serão geradas dentro do diretório definido em PATH_VOLUME:\n",
    "```\n",
    ".\n",
    "└── PATH_VOLUME/\n",
    "    ├── bronze/\n",
    "    │   ├── profile/\n",
    "    │   ├── offers/\n",
    "    │   └── transactions/\n",
    "    ├── silver/\n",
    "    │   ├── profile/\n",
    "    │   ├── offers/\n",
    "    │   ├── offers_received/\n",
    "    │   ├── offers_viewed/\n",
    "    │   └── transactions/\n",
    "    └── gold/\n",
    "        ├── customer_daily_features/\n",
    "        ├── daily_targets/\n",
    "        ├── abt_offer/\n",
    "        └── abt_baseline/\n",
    "```"
   ]
  },
  {
   "cell_type": "markdown",
   "metadata": {
    "application/vnd.databricks.v1+cell": {
     "cellMetadata": {},
     "inputWidgets": {},
     "nuid": "64017e32-9d3c-49e0-b3a8-891480274e03",
     "showTitle": false,
     "tableResultSettingsMap": {},
     "title": ""
    }
   },
   "source": [
    "\n",
    "# Bibliotecas utilizadas"
   ]
  },
  {
   "cell_type": "code",
   "execution_count": 0,
   "metadata": {
    "application/vnd.databricks.v1+cell": {
     "cellMetadata": {
      "byteLimit": 2048000,
      "rowLimit": 10000
     },
     "inputWidgets": {},
     "nuid": "0101288a-4f26-4d68-8d5d-c305798ba575",
     "showTitle": false,
     "tableResultSettingsMap": {},
     "title": ""
    }
   },
   "outputs": [],
   "source": [
    "from pyspark.sql import Window\n",
    "import pyspark.sql.functions as F\n",
    "import pyspark.sql.types as T"
   ]
  },
  {
   "cell_type": "markdown",
   "metadata": {
    "application/vnd.databricks.v1+cell": {
     "cellMetadata": {},
     "inputWidgets": {},
     "nuid": "21d1230a-2b3b-40c5-8f40-ae20eed9ffbe",
     "showTitle": false,
     "tableResultSettingsMap": {},
     "title": ""
    }
   },
   "source": [
    "\n",
    "# Funções e variáveis"
   ]
  },
  {
   "cell_type": "code",
   "execution_count": 0,
   "metadata": {
    "application/vnd.databricks.v1+cell": {
     "cellMetadata": {
      "byteLimit": 2048000,
      "rowLimit": 10000
     },
     "inputWidgets": {},
     "nuid": "ffa43e67-2365-413e-8a69-f33f1e635ac2",
     "showTitle": false,
     "tableResultSettingsMap": {},
     "title": ""
    }
   },
   "outputs": [],
   "source": [
    "def save_as_parquet(df, path):\n",
    "    df.write.mode(\"overwrite\").parquet(path)"
   ]
  },
  {
   "cell_type": "code",
   "execution_count": 0,
   "metadata": {
    "application/vnd.databricks.v1+cell": {
     "cellMetadata": {
      "byteLimit": 2048000,
      "rowLimit": 10000
     },
     "inputWidgets": {},
     "nuid": "ab4b6e02-b0bf-4b12-abbc-13a5eebb8dac",
     "showTitle": false,
     "tableResultSettingsMap": {},
     "title": ""
    }
   },
   "outputs": [],
   "source": [
    "# Path das bases raw\n",
    "PATH_VOLUME = \"/Volumes/workspace/default/case_ifood\""
   ]
  },
  {
   "cell_type": "markdown",
   "metadata": {
    "application/vnd.databricks.v1+cell": {
     "cellMetadata": {},
     "inputWidgets": {},
     "nuid": "e37e563e-40b6-4673-9420-e67ebbdbf1f3",
     "showTitle": false,
     "tableResultSettingsMap": {},
     "title": ""
    }
   },
   "source": [
    "\n",
    "# 0) Leitura das bases *raw*"
   ]
  },
  {
   "cell_type": "code",
   "execution_count": 0,
   "metadata": {
    "application/vnd.databricks.v1+cell": {
     "cellMetadata": {
      "byteLimit": 2048000,
      "rowLimit": 10000
     },
     "inputWidgets": {},
     "nuid": "3dd1ef59-e9a6-4fc6-a7c2-5563609515f9",
     "showTitle": false,
     "tableResultSettingsMap": {},
     "title": ""
    }
   },
   "outputs": [],
   "source": [
    "profile_raw = spark.read.json(f\"{PATH_VOLUME}/raw/profile.json\")\n",
    "offers_raw = spark.read.json(f\"{PATH_VOLUME}/raw/offers.json\")\n",
    "transactions_raw = spark.read.json(f\"{PATH_VOLUME}/raw/transactions.json\")"
   ]
  },
  {
   "cell_type": "markdown",
   "metadata": {
    "application/vnd.databricks.v1+cell": {
     "cellMetadata": {},
     "inputWidgets": {},
     "nuid": "98dce3dc-ada1-4f73-b0a2-ef705baa6c59",
     "showTitle": false,
     "tableResultSettingsMap": {},
     "title": ""
    }
   },
   "source": [
    "\n",
    "# 1) Análise Exploratória dos Dados Brutos (*Raw*)\n",
    "\n",
    "Antes de iniciar as transformações, vamos realizar uma análise exploratória nos dados brutos para entender sua estrutura, identificar inconsistências e validar algumas hipóteses iniciais. Esta análise guiará as decisões de limpeza e enriquecimento nas próximas etapas.\n",
    "\n",
    "**Algumas premissas importantes para o restante do projeto serão definidas nesta etapa.**"
   ]
  },
  {
   "cell_type": "markdown",
   "metadata": {
    "application/vnd.databricks.v1+cell": {
     "cellMetadata": {},
     "inputWidgets": {},
     "nuid": "15af89ee-4d4c-41fe-b416-c8192161be16",
     "showTitle": false,
     "tableResultSettingsMap": {},
     "title": ""
    }
   },
   "source": [
    "\n",
    "## 1.1) Tabela `profile`\n",
    "\n",
    "**Observações e Hipóteses:**\n",
    "\n",
    "* **Idade:** A estatística descritiva mostra uma idade máxima de 118 anos, o que é atípico. Uma contagem específica revela que esse valor aparece 2175 vezes, sugerindo ser um valor padrão para dados faltantes ou inválidos, já que outras variáveis como gênero e limite do cartão possuem esta quantidade de nulos também.\n",
    "\n",
    "* **Gênero:** Existe uma categoria 'O' (Outro) e um número significativo de valores nulos (2175). Para simplificar o modelo, podemos agrupar 'O' e nulos em uma única categoria, como 'Desconhecido'.\n",
    "\n",
    "* **Limite do Cartão de Crédito:** Os valores parecem muito maiores do que valores reais e a contagem de nulos é considerável. Esta variável, assim como a idade, podem estar \"anonimizadas\" de certa forma.\n",
    "\n",
    "---\n",
    "\n",
    "**Premissas:**\n",
    "- **Idade 118:** tudo indica que se trata de um placeholder para um valor nulo, portanto será tratado como tal.\n",
    "\n",
    "- **Valores de Idade e Limite de Crédito:** Os valores de idade e limite de cartão de crédito não parecem realistas. Assumimos que os dados foram anonimizados, mas a ordem foi preservada. Isso significa que, se um cliente A é mais velho que o cliente B nos dados, ele também é na vida real. Essa premissa nos permite usar essas variáveis para encontrar padrões, mesmo sem saber os valores exatos."
   ]
  },
  {
   "cell_type": "code",
   "execution_count": 0,
   "metadata": {
    "application/vnd.databricks.v1+cell": {
     "cellMetadata": {
      "byteLimit": 2048000,
      "rowLimit": 10000
     },
     "inputWidgets": {},
     "nuid": "3e96d74a-1bf7-4645-8904-db5a2fac38da",
     "showTitle": false,
     "tableResultSettingsMap": {},
     "title": ""
    }
   },
   "outputs": [
    {
     "output_type": "stream",
     "name": "stdout",
     "output_type": "stream",
     "text": [
      "Schema da tabela profile:\nroot\n |-- age: long (nullable = true)\n |-- credit_card_limit: double (nullable = true)\n |-- gender: string (nullable = true)\n |-- id: string (nullable = true)\n |-- registered_on: string (nullable = true)\n\n\nEstatísticas descritivas da idade:\n+-------+------------------+\n|summary|               age|\n+-------+------------------+\n|  count|             17000|\n|   mean| 62.53141176470588|\n| stddev|26.738579945767242|\n|    min|                18|\n|    max|               118|\n+-------+------------------+\n\n\nContagem de idade igual a 118: 2175\n\nDistribuição de gênero:\n+------+-----+\n|gender|count|\n+------+-----+\n|  NULL| 2175|\n|     M| 8484|\n|     O|  212|\n|     F| 6129|\n+------+-----+\n\n\nEstatísticas do limite do cartão de crédito:\n+-------+-----------------+\n|summary|credit_card_limit|\n+-------+-----------------+\n|  count|            14825|\n|   mean| 65404.9915682968|\n| stddev|21598.29941022947|\n|    min|          30000.0|\n|    max|         120000.0|\n+-------+-----------------+\n\n"
     ]
    }
   ],
   "source": [
    "print(\"Schema da tabela profile:\")\n",
    "profile_raw.printSchema()\n",
    "\n",
    "print(\"\\nEstatísticas descritivas da idade:\")\n",
    "profile_raw.describe(\"age\").show()\n",
    "\n",
    "print(f\"\\nContagem de idade igual a 118: {profile_raw.filter(F.col('age') == 118).count()}\")\n",
    "\n",
    "print(\"\\nDistribuição de gênero:\")\n",
    "profile_raw.groupBy(\"gender\").count().show()\n",
    "\n",
    "print(\"\\nEstatísticas do limite do cartão de crédito:\")\n",
    "profile_raw.describe(\"credit_card_limit\").show()"
   ]
  },
  {
   "cell_type": "markdown",
   "metadata": {
    "application/vnd.databricks.v1+cell": {
     "cellMetadata": {},
     "inputWidgets": {},
     "nuid": "b5d15459-ad70-4a5b-b78e-6be9e3fe6bf4",
     "showTitle": false,
     "tableResultSettingsMap": {},
     "title": ""
    }
   },
   "source": [
    "\n",
    "## 1.2) Tabela `offers`\n",
    "\n",
    "**Observações e Hipóteses:**\n",
    "\n",
    "* **Tipos de Oferta:** Existem três categorias de ofertas: `BOGO` (Compre Um, Leve Outro), `discount` (desconto direto) e `informational` (informativa, sem benefício monetário direto). As categorias `BOGO` e `discount` aparecem com a mesma frequência.\n",
    "\n",
    "* **Duração:** As ofertas têm uma duração que varia de 3 a 10 dias. A análise de quartis pode ajudar a segmentar as ofertas entre curta e longa duração.\n",
    "\n",
    "* **Canais de Veiculação:** As ofertas são distribuídas por quatro canais: `web`, `email`, `mobile`, e `social` e todos eles são utilizados com frequência.\n",
    "\n",
    "* **Valores Monetários:** As colunas `min_value` (valor mínimo para ativação) e `discount_value` (valor do desconto) são centrais para as ofertas do tipo `discount` e `BOGO`. A relação entre essas duas variáveis pode ser utilizada para criar uma feature de \"atratividade\" da oferta (ex: `discount_value` / `min_value`)."
   ]
  },
  {
   "cell_type": "code",
   "execution_count": 0,
   "metadata": {
    "application/vnd.databricks.v1+cell": {
     "cellMetadata": {
      "byteLimit": 2048000,
      "rowLimit": 10000
     },
     "inputWidgets": {},
     "nuid": "639aa893-aea3-40fb-b09e-35ae65050d33",
     "showTitle": false,
     "tableResultSettingsMap": {},
     "title": ""
    }
   },
   "outputs": [
    {
     "output_type": "stream",
     "name": "stdout",
     "output_type": "stream",
     "text": [
      "Schema da tabela offers:\nroot\n |-- channels: array (nullable = true)\n |    |-- element: string (containsNull = true)\n |-- discount_value: long (nullable = true)\n |-- duration: double (nullable = true)\n |-- id: string (nullable = true)\n |-- min_value: long (nullable = true)\n |-- offer_type: string (nullable = true)\n\n\nDistribuição dos tipos de oferta:\n+-------------+-----+\n|   offer_type|count|\n+-------------+-----+\n|         bogo|    4|\n|informational|    2|\n|     discount|    4|\n+-------------+-----+\n\n\nEstatísticas descritivas da duração das ofertas (em dias):\n+-------+------------------+\n|summary|          duration|\n+-------+------------------+\n|  count|                10|\n|   mean|               6.5|\n| stddev|2.3213980461973533|\n|    min|               3.0|\n|    max|              10.0|\n+-------+------------------+\n\n\nAnálise dos canais de veiculação:\n+-------+-----+\n|channel|count|\n+-------+-----+\n| mobile|    9|\n|  email|   10|\n| social|    6|\n|    web|    8|\n+-------+-----+\n\n\nEstatísticas do valor mínimo para ativação e do valor do desconto:\n+-------+------------------+------------------+\n|summary|         min_value|    discount_value|\n+-------+------------------+------------------+\n|  count|                10|                10|\n|   mean|               7.7|               4.2|\n| stddev|5.8319045869347965|3.5839146815241634|\n|    min|                 0|                 0|\n|    max|                20|                10|\n+-------+------------------+------------------+\n\n"
     ]
    }
   ],
   "source": [
    "print(\"Schema da tabela offers:\")\n",
    "offers_raw.printSchema()\n",
    "\n",
    "print(\"\\nDistribuição dos tipos de oferta:\")\n",
    "offers_raw.groupBy(\"offer_type\").count().show()\n",
    "\n",
    "print(\"\\nEstatísticas descritivas da duração das ofertas (em dias):\")\n",
    "offers_raw.describe(\"duration\").show()\n",
    "\n",
    "print(\"\\nAnálise dos canais de veiculação:\")\n",
    "offers_raw.withColumn(\"channel\", F.explode(\"channels\")).groupBy(\"channel\").count().show()\n",
    "\n",
    "print(\"\\nEstatísticas do valor mínimo para ativação e do valor do desconto:\")\n",
    "offers_raw.describe(\"min_value\", \"discount_value\").show()"
   ]
  },
  {
   "cell_type": "markdown",
   "metadata": {
    "application/vnd.databricks.v1+cell": {
     "cellMetadata": {},
     "inputWidgets": {},
     "nuid": "02a1c092-c8d0-425b-a5b7-3a03483934f6",
     "showTitle": false,
     "tableResultSettingsMap": {},
     "title": ""
    }
   },
   "source": [
    "\n",
    "## 1.3) Tabela `transactions`\n",
    "\n",
    "**Observações e Hipóteses:**\n",
    "\n",
    "* **Distribuição de Eventos:** A base de transações registra quatro tipos de eventos: `transaction`, `offer received`, `offer viewed`, e `offer completed`. O evento `transaction` é o mais frequente, seguido por `offer received`.\n",
    "\n",
    "* **Simultaneidade de Eventos:** Uma observação relevante surge ao analisar eventos que ocorrem para o mesmo cliente no mesmo instante de tempo (`time_since_test_start`). Nota-se uma alta frequência da combinação dos eventos `['offer completed', 'transaction']`.\n",
    "\n",
    "* **Hipótese de Vinculação:** Esta coocorrência sugere uma forte hipótese de que, para cada oferta completada, um evento de transação correspondente é gerado.\n",
    "\n",
    "---\n",
    "\n",
    "**Premissas:**\n",
    "\n",
    "* **Utilização de cupom:** a coluna `value` não mostra se a transação usou cupom, mas todo `offer completed` ocorre junto de uma única transação do cliente. Assim, vou considerar que essa transação usou o cupom correspondente.\n"
   ]
  },
  {
   "cell_type": "code",
   "execution_count": 0,
   "metadata": {
    "application/vnd.databricks.v1+cell": {
     "cellMetadata": {
      "byteLimit": 2048000,
      "rowLimit": 10000
     },
     "inputWidgets": {},
     "nuid": "e19c6574-2737-4fd1-aa84-8ec913da3365",
     "showTitle": false,
     "tableResultSettingsMap": {},
     "title": ""
    }
   },
   "outputs": [
    {
     "output_type": "stream",
     "name": "stdout",
     "output_type": "stream",
     "text": [
      "Schema da tabela transactions:\nroot\n |-- account_id: string (nullable = true)\n |-- event: string (nullable = true)\n |-- time_since_test_start: double (nullable = true)\n |-- value: struct (nullable = true)\n |    |-- amount: double (nullable = true)\n |    |-- offer id: string (nullable = true)\n |    |-- offer_id: string (nullable = true)\n |    |-- reward: double (nullable = true)\n\nContagem por tipo de evento:\n+---------------+------+\n|          event| count|\n+---------------+------+\n|    transaction|138953|\n| offer received| 76277|\n|   offer viewed| 57725|\n|offer completed| 33579|\n+---------------+------+\n\n\nCombinações de eventos que ocorrem simultaneamente:\n+------------------------------------------------------------+------+\n|events_at_same_time                                         |count |\n+------------------------------------------------------------+------+\n|[transaction]                                               |101895|\n|[offer received]                                            |59916 |\n|[offer viewed]                                              |39576 |\n|[offer completed, transaction]                              |26189 |\n|[offer received, offer viewed]                              |10974 |\n|[offer viewed, transaction]                                 |3426  |\n|[offer received, transaction]                               |2145  |\n|[offer completed, offer viewed, transaction]                |2056  |\n|[offer completed, offer received, transaction]              |1549  |\n|[offer received, offer viewed, transaction]                 |870   |\n|[offer completed, offer received, offer viewed, transaction]|823   |\n+------------------------------------------------------------+------+\n\nQuantidade de transações que ocorrem no mesmo instante que uma 'offer completed':\n+-----------------+\n|transaction_count|\n+-----------------+\n|                1|\n+-----------------+\n\n"
     ]
    }
   ],
   "source": [
    "print(\"Schema da tabela transactions:\")\n",
    "transactions_raw.printSchema()\n",
    "\n",
    "print(\"Contagem por tipo de evento:\")\n",
    "transactions_raw.groupBy('event').count().orderBy(F.desc('count')).show()\n",
    "\n",
    "event_pairs_df = transactions_raw.groupBy(\"account_id\", \"time_since_test_start\").agg(\n",
    "    F.sort_array(F.collect_set(\"event\")).alias(\"events_at_same_time\")\n",
    ")\n",
    "\n",
    "print(\"\\nCombinações de eventos que ocorrem simultaneamente:\")\n",
    "event_pairs_df.groupBy(\"events_at_same_time\").count().orderBy(F.desc('count')).show(truncate=False)\n",
    "\n",
    "count_multiple = (\n",
    "    transactions_raw\n",
    "    .filter(F.col('event').isin(['offer completed', 'transaction']))\n",
    "    .groupBy(\"account_id\", \"time_since_test_start\")\n",
    "    .agg(\n",
    "        F.sum(F.when(F.col(\"event\") == \"transaction\", 1).otherwise(0)).alias(\"transaction_count\"),\n",
    "        F.sum(F.when(F.col(\"event\") == \"offer completed\", 1).otherwise(0)).alias(\"offer_completed_count\")\n",
    "    )\n",
    "    .filter((F.col(\"offer_completed_count\") > 0))\n",
    "    .select('transaction_count')\n",
    "    .distinct()\n",
    ")\n",
    "\n",
    "print(f\"Quantidade de transações que ocorrem no mesmo instante que uma 'offer completed':\")\n",
    "count_multiple.show()"
   ]
  },
  {
   "cell_type": "markdown",
   "metadata": {
    "application/vnd.databricks.v1+cell": {
     "cellMetadata": {},
     "inputWidgets": {},
     "nuid": "aa5397c8-b097-422e-88d4-492a96c87943",
     "showTitle": false,
     "tableResultSettingsMap": {},
     "title": ""
    }
   },
   "source": [
    "\n",
    "# 2) Estruturação de Dados (*Raw → Bronze*)\n",
    "\n",
    "O objetivo desta etapa é converter os dados brutos (`JSON`) para um formato estruturado e otimizado (`parquet`), estabelecendo uma base de dados limpa e rastreável para as fases de processamento subsequentes.\n",
    "\n",
    "As operações principais são:\n",
    "\n",
    "* **Conversão para Parquet:** Os dados são persistidos em Parquet, um formato colunar que otimiza a performance de leitura e a compressão em ambientes de processamento distribuído como o Spark.\n",
    "\n",
    "* **Padronização do Schema:** As colunas são convertidas para tipos de dados consistentes (e.g., `string`, `double`, `date`). Esta padronização é essencial para garantir a integridade dos dados e prevenir erros nas próximas etapas.\n",
    "\n",
    "* **Rastreabilidade da Ingestão:** Uma coluna `execution_date` é inserida para registrar a data da carga, permitindo o versionamento e a governança sobre os dados ingeridos."
   ]
  },
  {
   "cell_type": "code",
   "execution_count": 0,
   "metadata": {
    "application/vnd.databricks.v1+cell": {
     "cellMetadata": {
      "byteLimit": 2048000,
      "rowLimit": 10000
     },
     "inputWidgets": {},
     "nuid": "c098b902-4dd0-4c97-93b2-e30153282ba9",
     "showTitle": false,
     "tableResultSettingsMap": {},
     "title": ""
    }
   },
   "outputs": [],
   "source": [
    "profile_bronze = (\n",
    "    profile_raw\n",
    "    .withColumn(\"age\", F.col(\"age\").cast(\"int\"))\n",
    "    .withColumn(\"credit_card_limit\", F.col(\"credit_card_limit\").cast(\"double\"))\n",
    "    .withColumn(\"registered_on\", F.to_date(F.col(\"registered_on\"), format='yyyyMMdd').cast(\"date\"))\n",
    "    .withColumn(\"id\", F.col(\"id\").cast(\"string\"))\n",
    "    .withColumn(\"gender\", F.col(\"gender\").cast(\"string\"))\n",
    "    .withColumn('execution_date', F.current_date())\n",
    "    .withColumnRenamed('id', 'account_id')\n",
    "    .select('account_id', 'registered_on', 'age', 'gender', 'credit_card_limit', 'execution_date')\n",
    ")\n",
    "\n",
    "offers_bronze = (\n",
    "    offers_raw\n",
    "    .withColumn('channels', F.col('channels').cast(T.ArrayType(T.StringType())))\n",
    "    .withColumn('discount_value', F.col('discount_value').cast(\"double\"))\n",
    "    .withColumn('duration', F.col('duration').cast(\"double\"))\n",
    "    .withColumn('id', F.col('id').cast(\"string\"))\n",
    "    .withColumn('min_value', F.col('min_value').cast(\"double\"))\n",
    "    .withColumn('offer_type', F.col('offer_type').cast(\"string\"))\n",
    "    .withColumn('execution_date', F.current_date())\n",
    "    .withColumnRenamed('id', 'offer_id')\n",
    "    .select('offer_id', 'channels', 'duration', 'discount_value', 'min_value', 'offer_type', 'execution_date')\n",
    ")\n",
    "\n",
    "transactions_bronze = (\n",
    "    transactions_raw\n",
    "    .withColumn('time_since_test_start', F.col('time_since_test_start').cast(\"double\"))\n",
    "    .withColumn('event', F.col('event').cast(\"string\"))\n",
    "    .withColumn('account_id', F.col('account_id').cast(\"string\"))\n",
    "    .withColumn('amount', F.col('value.amount').cast(\"double\"))\n",
    "    .withColumn('offer id', F.col('value.offer id').cast(\"string\"))\n",
    "    .withColumn('offer_id', F.col('value.offer_id').cast(\"string\"))\n",
    "    .withColumn('reward', F.col('value.reward').cast(\"double\"))\n",
    "    .withColumn('execution_date', F.current_date())\n",
    "    .select('event', 'account_id', 'time_since_test_start', 'amount', 'offer_id', 'offer id', 'reward', 'execution_date')\n",
    ")"
   ]
  },
  {
   "cell_type": "code",
   "execution_count": 0,
   "metadata": {
    "application/vnd.databricks.v1+cell": {
     "cellMetadata": {},
     "inputWidgets": {},
     "nuid": "a8b89c94-32a2-4722-b0dd-d5fdf4a31e6e",
     "showTitle": false,
     "tableResultSettingsMap": {},
     "title": ""
    }
   },
   "outputs": [],
   "source": [
    "save_as_parquet(profile_bronze, f\"{PATH_VOLUME}/bronze/profile\")\n",
    "save_as_parquet(offers_bronze, f\"{PATH_VOLUME}/bronze/offers\")\n",
    "save_as_parquet(transactions_bronze, f\"{PATH_VOLUME}/bronze/transactions\")"
   ]
  },
  {
   "cell_type": "markdown",
   "metadata": {
    "application/vnd.databricks.v1+cell": {
     "cellMetadata": {},
     "inputWidgets": {},
     "nuid": "21cfff60-961b-4bb2-981a-293215eecd91",
     "showTitle": false,
     "tableResultSettingsMap": {},
     "title": ""
    }
   },
   "source": [
    "\n",
    "## 2.1) Checagem dos dados"
   ]
  },
  {
   "cell_type": "markdown",
   "metadata": {
    "application/vnd.databricks.v1+cell": {
     "cellMetadata": {},
     "inputWidgets": {},
     "nuid": "d754dce9-59a5-410d-9552-506da0797702",
     "showTitle": false,
     "tableResultSettingsMap": {},
     "title": ""
    }
   },
   "source": [
    "\n",
    "### 2.1.1) Tabela `bronze/profile`"
   ]
  },
  {
   "cell_type": "code",
   "execution_count": 0,
   "metadata": {
    "application/vnd.databricks.v1+cell": {
     "cellMetadata": {
      "byteLimit": 2048000,
      "rowLimit": 10000
     },
     "inputWidgets": {},
     "nuid": "04561546-5f68-4322-8b4b-3e570b9e0189",
     "showTitle": false,
     "tableResultSettingsMap": {},
     "title": ""
    }
   },
   "outputs": [
    {
     "output_type": "stream",
     "name": "stdout",
     "output_type": "stream",
     "text": [
      "Total de cadastros na tabela: 17,000\nTotal de cadastros unicos na tabela: 17,000\nNúmero de cadastros nulos: 0\nNúmero de datas de cadastro nulos: 0\n+---------------------+---------------------+\n|min_registration_date|max_registration_date|\n+---------------------+---------------------+\n|           2013-07-29|           2018-07-26|\n+---------------------+---------------------+\n\n+-------+------------------+\n|summary|               age|\n+-------+------------------+\n|  count|             17000|\n|   mean| 62.53141176470588|\n| stddev|26.738579945767242|\n|    min|                18|\n|    max|               118|\n+-------+------------------+\n\n+------+-----+\n|gender|count|\n+------+-----+\n|  NULL| 2175|\n|     M| 8484|\n|     O|  212|\n|     F| 6129|\n+------+-----+\n\n+-------+-----------------+\n|summary|credit_card_limit|\n+-------+-----------------+\n|  count|            14825|\n|   mean| 65404.9915682968|\n| stddev|21598.29941022947|\n|    min|          30000.0|\n|    max|         120000.0|\n+-------+-----------------+\n\n"
     ]
    }
   ],
   "source": [
    "total_profiles = profile_bronze.count()\n",
    "print(f\"Total de cadastros na tabela: {total_profiles:,}\")\n",
    "\n",
    "total_unique_profiles = profile_bronze.select('account_id').distinct().count()\n",
    "print(f\"Total de cadastros unicos na tabela: {total_unique_profiles:,}\")\n",
    "\n",
    "null_ids = profile_bronze.filter(F.col(\"account_id\").isNull()).count()\n",
    "print(f\"Número de cadastros nulos: {null_ids}\")\n",
    "\n",
    "null_dates = profile_bronze.filter(F.col(\"registered_on\").isNull()).count()\n",
    "print(f\"Número de datas de cadastro nulos: {null_dates}\")\n",
    "\n",
    "date_range = profile_bronze.select(\n",
    "    F.min(\"registered_on\").alias(\"min_registration_date\"),\n",
    "    F.max(\"registered_on\").alias(\"max_registration_date\")\n",
    ").show()\n",
    "\n",
    "profile_bronze.describe(\"age\").show()\n",
    "profile_bronze.groupBy(\"gender\").count().show()\n",
    "profile_bronze.describe(\"credit_card_limit\").show()"
   ]
  },
  {
   "cell_type": "markdown",
   "metadata": {
    "application/vnd.databricks.v1+cell": {
     "cellMetadata": {},
     "inputWidgets": {},
     "nuid": "afc56d78-f249-4a24-81e8-e49c67475c6c",
     "showTitle": false,
     "tableResultSettingsMap": {},
     "title": ""
    }
   },
   "source": [
    "\n",
    "### 2.1.2) Tabela `bronze/transactions`"
   ]
  },
  {
   "cell_type": "code",
   "execution_count": 0,
   "metadata": {
    "application/vnd.databricks.v1+cell": {
     "cellMetadata": {
      "byteLimit": 2048000,
      "rowLimit": 10000
     },
     "inputWidgets": {},
     "nuid": "c5e387ca-5140-46f7-94aa-56e03b4aeaac",
     "showTitle": false,
     "tableResultSettingsMap": {},
     "title": ""
    }
   },
   "outputs": [
    {
     "output_type": "stream",
     "name": "stdout",
     "output_type": "stream",
     "text": [
      "+---------------+------------+---------------+--------+--------+----------+----------+--------------+--------------+------------+----------+----------+\n|          event|total_events|total_customers|min_time|max_time|min_amount|max_amount|offer_id_nulls|offer id_nulls|reward_nulls|min_reward|max_reward|\n+---------------+------------+---------------+--------+--------+----------+----------+--------------+--------------+------------+----------+----------+\n| offer received|       76277|          16994|     0.0|    24.0|      NULL|      NULL|           1.0|           0.0|         1.0|      NULL|      NULL|\n|   offer viewed|       57725|          16834|     0.0|   29.75|      NULL|      NULL|           1.0|           0.0|         1.0|      NULL|      NULL|\n|offer completed|       33579|          12774|     0.0|   29.75|      NULL|      NULL|           0.0|           1.0|         0.0|       2.0|      10.0|\n|    transaction|      138953|          16578|     0.0|   29.75|      0.05|   1062.28|           1.0|           1.0|         1.0|      NULL|      NULL|\n+---------------+------------+---------------+--------+--------+----------+----------+--------------+--------------+------------+----------+----------+\n\n"
     ]
    }
   ],
   "source": [
    "(\n",
    "    transactions_bronze\n",
    "    .groupby('event')\n",
    "    .agg(\n",
    "        F.count('*').alias('total_events'),\n",
    "        F.countDistinct('account_id').alias('total_customers'),\n",
    "        F.min(F.col('time_since_test_start')).alias('min_time'),\n",
    "        F.max(F.col('time_since_test_start')).alias('max_time'),\n",
    "        F.min(F.col('amount')).alias('min_amount'),\n",
    "        F.max(F.col('amount')).alias('max_amount'),\n",
    "        F.avg(F.when(F.col('offer_id').isNull(), 1).otherwise(0)).alias('offer_id_nulls'),\n",
    "        F.avg(F.when(F.col('offer id').isNull(), 1).otherwise(0)).alias('offer id_nulls'),\n",
    "        F.avg(F.when(F.col('reward').isNull(), 1).otherwise(0)).alias('reward_nulls'),\n",
    "        F.min(F.col('reward')).alias('min_reward'),\n",
    "        F.max(F.col('reward')).alias('max_reward'),\n",
    "    )\n",
    ").show()"
   ]
  },
  {
   "cell_type": "markdown",
   "metadata": {
    "application/vnd.databricks.v1+cell": {
     "cellMetadata": {},
     "inputWidgets": {},
     "nuid": "d4d19ab0-f472-4f4f-af35-a1f5e288bb81",
     "showTitle": false,
     "tableResultSettingsMap": {},
     "title": ""
    }
   },
   "source": [
    "\n",
    "# 3) Enriquecimento e Regras de Negócio (*Bronze → Silver*)\n",
    "\n",
    "O objetivo da camada Silver é transformar os dados limpos da camada Bronze em tabelas enriquecidas e prontas para a engenharia de features. Nesta fase, aplicamos as regras de negócio e as premissas levantadas durante a Análise Exploratória de Dados.\n",
    "\n",
    "As principais transformações incluem:\n",
    "- **Limpeza de Dados:** Tratamento de valores inconsistentes ou nulos com base em regras ou premissas predefinidas.\n",
    "- **Engenharia de Features Básica:** Criação de novas colunas que agregam valor e significado de negócio aos dados brutos.\n",
    "- **Reorganização Estrutural:** A tabela centralizada de eventos da camada Bronze é segmentada em tabelas especializadas para maior clareza e eficiência no processamento.\n",
    "\n",
    "Ao final desta etapa, teremos cinco tabelas refinadas: `profile`, `offers`, `offers_received`, `offers_viewed` e `transactions`."
   ]
  },
  {
   "cell_type": "code",
   "execution_count": 0,
   "metadata": {
    "application/vnd.databricks.v1+cell": {
     "cellMetadata": {
      "byteLimit": 2048000,
      "rowLimit": 10000
     },
     "inputWidgets": {},
     "nuid": "446a86ae-9904-42d5-8923-9fa3854af2bf",
     "showTitle": false,
     "tableResultSettingsMap": {},
     "title": ""
    }
   },
   "outputs": [],
   "source": [
    "profile_bronze = spark.read.parquet(f\"{PATH_VOLUME}/bronze/profile\")\n",
    "offers_bronze = spark.read.parquet(f\"{PATH_VOLUME}/bronze/offers\")\n",
    "transactions_bronze = spark.read.parquet(f\"{PATH_VOLUME}/bronze/transactions\")"
   ]
  },
  {
   "cell_type": "markdown",
   "metadata": {
    "application/vnd.databricks.v1+cell": {
     "cellMetadata": {},
     "inputWidgets": {},
     "nuid": "48ad2a95-f0fe-4074-b73f-e48a06e48a6f",
     "showTitle": false,
     "tableResultSettingsMap": {},
     "title": ""
    }
   },
   "source": [
    "\n",
    "## 3.1) Tabela `silver/profile`\n",
    "\n",
    "**Objetivo:** Aplicar as regras de limpeza identificadas na EDA e enriquecer os dados cadastrais do cliente.\n",
    "\n",
    "**Premissas e Ações:**\n",
    "- **Idade:** Com base na premissa de que a idade `118` é um valor inválido, ela é substituída por `None`. A coluna é renomeada para `age_at_registration` para maior clareza, já que não conseguiremos relacionar a idade do cliente no momento da transação por ser um tempo relativo.\n",
    "\n",
    "- **Gênero:** Para simplificar a feature, os valores `O` e `null` são agrupados em uma única categoria, `Desconhecido`.\n",
    "\n",
    "- **Criação de Feature (*Tenure*):** É criada a coluna `relative_customer_tenure_days`, que calcula o tempo de vida do cliente em dias (tenure) em relação à data de cadastro mais recente na base. Como todos os clientes estão na base de transações, faz sentido assumirmos que as transações iniciaram em algum momento **após** o cadastro do cliente mais recente. Então, apesar de não sabermos o tempo de vida do cliente no momento da transação, podemos ter uma ordenação fiel de quais clientes tem mais tempo de casa."
   ]
  },
  {
   "cell_type": "code",
   "execution_count": 0,
   "metadata": {
    "application/vnd.databricks.v1+cell": {
     "cellMetadata": {
      "byteLimit": 2048000,
      "rowLimit": 10000
     },
     "inputWidgets": {},
     "nuid": "884c25a2-2a3e-4ab5-ae2e-7dbb2e750055",
     "showTitle": false,
     "tableResultSettingsMap": {},
     "title": ""
    }
   },
   "outputs": [],
   "source": [
    "# Data de cadastro mais recente (o tenure é calculado em cima desta data)\n",
    "max_reg_date = profile_bronze.select(F.max(\"registered_on\")).first()[0]\n",
    "\n",
    "profile_silver = (\n",
    "    profile_bronze\n",
    "    .withColumn('age', F.when(F.col('age') == 118, None).otherwise(F.col('age')))\n",
    "    .withColumn('gender', F.when((F.col('gender') == 'O') | (F.col('gender').isNull()), 'Desconhecido').otherwise(F.col('gender')))\n",
    "    .withColumn(\"relative_customer_tenure_days\", F.datediff(F.lit(max_reg_date), F.col(\"registered_on\")))\n",
    "    .withColumnRenamed('age', 'age_at_registration')\n",
    "    .select('account_id', 'age_at_registration', 'gender', 'credit_card_limit', 'relative_customer_tenure_days', 'execution_date')\n",
    ")"
   ]
  },
  {
   "cell_type": "markdown",
   "metadata": {
    "application/vnd.databricks.v1+cell": {
     "cellMetadata": {},
     "inputWidgets": {},
     "nuid": "23ace803-3c2a-426b-87d7-25e3684e6d6d",
     "showTitle": false,
     "tableResultSettingsMap": {},
     "title": ""
    }
   },
   "source": [
    "\n",
    "## 3.2) Tabela `silver/offers`\n",
    "\n",
    "**Objetivo:** Transformar os metadados das ofertas em features mais informativas e adequadas para o uso em modelos de machine learning.\n",
    "\n",
    "**Premissas e Ações:**\n",
    "- **Criação de Feature (Taxa de Incentivo):** É calculada a coluna `incentive_ratio` (`discount_value / min_value`) para quantificar a \"atratividade\" de uma oferta de desconto.\n",
    "\n",
    "- **Categorização de Features:** São criadas colunas categóricas como `duration_range` (classificando a duração da oferta) e `incentive_type` (um resumo melhor do que a `incentive_ratio`). A premissa é que estas categorias têm maior poder preditivo do que os valores numéricos contínuos, além de gerar menos combinações possíveis na nossa simulação final.\n",
    "\n",
    "- **One-Hot Encoding de Canais:** A coluna `channels`, que é um array, é desmembrada em colunas binárias (`channel_web`, `channel_email`, etc.). Isso transforma os canais em um formato numérico que pode ser diretamente utilizado pelo modelo."
   ]
  },
  {
   "cell_type": "code",
   "execution_count": 0,
   "metadata": {
    "application/vnd.databricks.v1+cell": {
     "cellMetadata": {
      "byteLimit": 2048000,
      "rowLimit": 10000
     },
     "inputWidgets": {},
     "nuid": "8635d60a-7a00-4874-829c-4787369374bf",
     "showTitle": false,
     "tableResultSettingsMap": {},
     "title": ""
    }
   },
   "outputs": [],
   "source": [
    "offers_silver = (\n",
    "    offers_bronze\n",
    "    .withColumn('duration_range', F.when(F.col('duration') <= 5, 'Até 5 dias').otherwise('Acima de 5 dias'))\n",
    "    .withColumn(\"channel_web\", F.array_contains(F.col(\"channels\"), \"web\").cast(\"integer\"))\n",
    "    .withColumn(\"channel_email\", F.array_contains(F.col(\"channels\"), \"email\").cast(\"integer\"))\n",
    "    .withColumn(\"channel_mobile\", F.array_contains(F.col(\"channels\"), \"mobile\").cast(\"integer\"))\n",
    "    .withColumn(\"channel_social\", F.array_contains(F.col(\"channels\"), \"social\").cast(\"integer\"))\n",
    "    .withColumn(\n",
    "        \"incentive_ratio\",\n",
    "        F.when(F.col(\"min_value\") > 0, F.col(\"discount_value\") / F.col(\"min_value\")).otherwise(0)\n",
    "    )\n",
    "    .withColumn(\n",
    "        'incentive_type',\n",
    "        F.when(F.col('offer_type') == 'bogo', 'BOGO')\n",
    "        .when(F.col('offer_type') == 'informational', 'INFO')\n",
    "        .when(F.col('incentive_ratio') <= 0.25, 'Até 25%')\n",
    "        .when(F.col('incentive_ratio') <= 0.5, 'Até 50%')\n",
    "        .when(F.col('incentive_ratio') <= 0.75, 'Até 75%')\n",
    "        .when(F.col('incentive_ratio') <= 1, 'Até 100%')\n",
    "    )\n",
    "    .select('offer_id', 'duration', 'duration_range', 'channel_web', 'channel_email', 'channel_mobile', 'channel_social', 'discount_value', 'min_value', 'offer_type', 'incentive_type', 'execution_date')\n",
    ")"
   ]
  },
  {
   "cell_type": "markdown",
   "metadata": {
    "application/vnd.databricks.v1+cell": {
     "cellMetadata": {},
     "inputWidgets": {},
     "nuid": "e1279991-b922-47e8-aa9c-38dff1e76390",
     "showTitle": false,
     "tableResultSettingsMap": {},
     "title": ""
    }
   },
   "source": [
    "\n",
    "## 3.3) Tabelas `silver/offers_received` e `silver/offers_viewed`\n",
    "\n",
    "**Objetivo:** Isolar os eventos de recebimento e visualização de ofertas em tabelas dedicadas para simplificar a análise de funil e a criação de features de comportamento.\n",
    "\n",
    "**Premissa e Ação:**\n",
    "- A premissa central é que segmentar a tabela de eventos original melhora a organização dos dados. A tabela `transactions_bronze` é filtrada para criar duas tabelas distintas:\n",
    "    - `offers_received`: Registra o momento em que cada cliente **recebeu** uma oferta.\n",
    "    - `offers_viewed`: Registra o momento em que cada cliente **visualizou** uma oferta.\n",
    "\n",
    "**Importante notar que para ambos os eventos, não há preenchimento de `amount` nem `reward`, apenas o `offer id`.**"
   ]
  },
  {
   "cell_type": "code",
   "execution_count": 0,
   "metadata": {
    "application/vnd.databricks.v1+cell": {
     "cellMetadata": {
      "byteLimit": 2048000,
      "rowLimit": 10000
     },
     "inputWidgets": {},
     "nuid": "361d0cda-8ea3-4618-b317-5cddc5459401",
     "showTitle": false,
     "tableResultSettingsMap": {},
     "title": ""
    }
   },
   "outputs": [],
   "source": [
    "offers_received_silver = (\n",
    "    transactions_bronze\n",
    "    .filter(F.col('event') == 'offer received')\n",
    "    .select('account_id', 'time_since_test_start', F.col('offer id').alias('offer_id'), 'execution_date')\n",
    ")"
   ]
  },
  {
   "cell_type": "code",
   "execution_count": 0,
   "metadata": {
    "application/vnd.databricks.v1+cell": {
     "cellMetadata": {
      "byteLimit": 2048000,
      "rowLimit": 10000
     },
     "inputWidgets": {},
     "nuid": "6102651d-4657-4d20-b558-b0f11399c589",
     "showTitle": false,
     "tableResultSettingsMap": {},
     "title": ""
    }
   },
   "outputs": [],
   "source": [
    "offers_viewed_silver = (\n",
    "    transactions_bronze\n",
    "    .filter(F.col('event') == 'offer viewed')\n",
    "    .select('account_id', 'time_since_test_start', F.col('offer id').alias('offer_id'), 'execution_date')\n",
    ")"
   ]
  },
  {
   "cell_type": "markdown",
   "metadata": {
    "application/vnd.databricks.v1+cell": {
     "cellMetadata": {},
     "inputWidgets": {},
     "nuid": "ff831fcd-d542-49a3-b74a-55b6ad35e502",
     "showTitle": false,
     "tableResultSettingsMap": {},
     "title": ""
    }
   },
   "source": [
    "\n",
    "## 3.4) Tabela `silver/transactions`\n",
    "\n",
    "**Objetivo:** Criar uma tabela consolidada de transações, vinculando de forma explícita as compras ao uso de ofertas.\n",
    "\n",
    "**Premissa e Ação:**\n",
    "- **Premissa Chave:** A solução se baseia na premissa validada na EDA de que os eventos `offer completed` e `transaction` coocorrem no tempo. Isso nos permite unificá-los em um único registro.\n",
    "\n",
    "- **Ação:** O código agrupa os dados por `account_id` e `time_since_test_start`. Em seguida, utiliza funções de agregação para consolidar as informações, preenchendo o `offer_id` e o `reward` (do evento `offer completed`) na mesma linha do `amount` da transação. O resultado é uma visão clara de cada transação, indicando se ela foi ou não impulsionada por uma oferta.\n",
    "\n",
    "**Na EDA também foi validado que não existe o evento `offer completed` sem uma `transaction` envolvida.**"
   ]
  },
  {
   "cell_type": "code",
   "execution_count": 0,
   "metadata": {
    "application/vnd.databricks.v1+cell": {
     "cellMetadata": {
      "byteLimit": 2048000,
      "rowLimit": 10000
     },
     "inputWidgets": {},
     "nuid": "ec14e350-9159-4ec3-b706-89b8952a6274",
     "showTitle": false,
     "tableResultSettingsMap": {},
     "title": ""
    }
   },
   "outputs": [],
   "source": [
    "transactions_silver = (\n",
    "    transactions_bronze\n",
    "    .filter(F.col('event').isin(['offer completed', 'transaction']))\n",
    "    .groupby('account_id', 'time_since_test_start')\n",
    "    .agg(\n",
    "        F.max('amount').alias('amount'),\n",
    "        F.first('offer_id', ignorenulls=True).alias('offer_id'),\n",
    "        F.max('reward').alias('reward'),\n",
    "        F.max('execution_date').alias('execution_date')\n",
    "    )\n",
    ")"
   ]
  },
  {
   "cell_type": "markdown",
   "metadata": {
    "application/vnd.databricks.v1+cell": {
     "cellMetadata": {},
     "inputWidgets": {},
     "nuid": "f9d7f944-ec88-45f8-9056-bb9f93cea997",
     "showTitle": false,
     "tableResultSettingsMap": {},
     "title": ""
    }
   },
   "source": [
    "\n",
    "## 3.5) Salvando bases na camada *Silver*"
   ]
  },
  {
   "cell_type": "code",
   "execution_count": 0,
   "metadata": {
    "application/vnd.databricks.v1+cell": {
     "cellMetadata": {
      "byteLimit": 2048000,
      "rowLimit": 10000
     },
     "inputWidgets": {},
     "nuid": "d3040ee3-e42b-41f0-b8b7-40c53cc2384d",
     "showTitle": false,
     "tableResultSettingsMap": {},
     "title": ""
    }
   },
   "outputs": [],
   "source": [
    "save_as_parquet(profile_silver, f\"{PATH_VOLUME}/silver/profile\")\n",
    "save_as_parquet(offers_silver, f\"{PATH_VOLUME}/silver/offers\")\n",
    "save_as_parquet(offers_received_silver, f\"{PATH_VOLUME}/silver/offers_received\")\n",
    "save_as_parquet(offers_viewed_silver, f\"{PATH_VOLUME}/silver/offers_viewed\")\n",
    "save_as_parquet(transactions_silver, f\"{PATH_VOLUME}/silver/transactions\")"
   ]
  },
  {
   "cell_type": "markdown",
   "metadata": {
    "application/vnd.databricks.v1+cell": {
     "cellMetadata": {},
     "inputWidgets": {},
     "nuid": "a7e3fbd9-7e60-4fe4-b5db-16e896cfcb2b",
     "showTitle": false,
     "tableResultSettingsMap": {},
     "title": ""
    }
   },
   "source": [
    "\n",
    "# 4) Engenharia de Features (*Silver → Gold*)\n",
    "\n",
    "Nesta etapa, transformamos os dados enriquecidos da camada Silver em uma *Feature Store* na camada Gold. O objetivo é criar um conjunto abrangente de variáveis que descrevam o comportamento histórico de cada cliente em um determinado dia.\n",
    "\n",
    "A estratégia central se baseia na criação de uma tabela `spine` (`account_id`, `day`), que serve como base para a construção de features de janela móvel. Essas features agregarão o comportamento do cliente em diferentes janelas de tempo passadas (últimos 5, 7 e 10 dias), capturando padrões de Recência, Frequência e Valor (RFM), além de outras métricas comportamentais."
   ]
  },
  {
   "cell_type": "code",
   "execution_count": 0,
   "metadata": {
    "application/vnd.databricks.v1+cell": {
     "cellMetadata": {
      "byteLimit": 2048000,
      "rowLimit": 10000
     },
     "inputWidgets": {},
     "nuid": "a5f87c21-537e-438b-8a32-df7f44ed8f37",
     "showTitle": false,
     "tableResultSettingsMap": {},
     "title": ""
    }
   },
   "outputs": [],
   "source": [
    "profile = spark.read.parquet(f\"{PATH_VOLUME}/silver/profile\")\n",
    "offers = spark.read.parquet(f\"{PATH_VOLUME}/silver/offers\")\n",
    "offers_received = spark.read.parquet(f\"{PATH_VOLUME}/silver/offers_received\")\n",
    "offers_viewed = spark.read.parquet(f\"{PATH_VOLUME}/silver/offers_viewed\")\n",
    "transactions = spark.read.parquet(f\"{PATH_VOLUME}/silver/transactions\")"
   ]
  },
  {
   "cell_type": "markdown",
   "metadata": {
    "application/vnd.databricks.v1+cell": {
     "cellMetadata": {},
     "inputWidgets": {},
     "nuid": "0b2af06c-232b-4b8b-a2a2-93b6b60d1fd0",
     "showTitle": false,
     "tableResultSettingsMap": {},
     "title": ""
    }
   },
   "source": [
    "\n",
    "## 4.1) Enriquecimento da Tabela de Transações\n",
    "\n",
    "**Objetivo:** Consolidar informações relevantes em nível de transação para facilitar a criação de features agregadas.\n",
    "\n",
    "**Ações Executadas:**\n",
    "- **Cálculo do Tempo de Conversão:** Para cada transação com oferta, é calculada a feature `time_from_receive_to_use`, que mede o tempo decorrido desde o recebimento da oferta até a sua utilização. A lógica associa a transação à oferta correspondente mais recente recebida pelo cliente.\n",
    "\n",
    "- **Criação do Valor Bruto do Pedido:** É criada a feature `gross_order_value`, que representa o valor total da compra antes do desconto (`amount` + `reward`).\n",
    "\n",
    "- **Junção com Metadados da Oferta:** A tabela é enriquecida com os detalhes da oferta utilizada, juntando-se à tabela `offers_silver`."
   ]
  },
  {
   "cell_type": "code",
   "execution_count": 0,
   "metadata": {
    "application/vnd.databricks.v1+cell": {
     "cellMetadata": {
      "byteLimit": 2048000,
      "rowLimit": 10000
     },
     "inputWidgets": {},
     "nuid": "65766ffd-65eb-4a19-9a6a-1996b2988c24",
     "showTitle": false,
     "tableResultSettingsMap": {},
     "title": ""
    }
   },
   "outputs": [],
   "source": [
    "used_offer_transactions = transactions.filter(F.col(\"offer_id\").isNotNull())\n",
    "\n",
    "t = used_offer_transactions.alias(\"t\")\n",
    "r = offers_received.alias(\"r\")\n",
    "\n",
    "matched_receive_to_use = t.join(\n",
    "    r,\n",
    "    on = (\n",
    "        (t.account_id == r.account_id) &\n",
    "        (t.offer_id == r.offer_id) &\n",
    "        (t.time_since_test_start >= r.time_since_test_start)\n",
    "    ),\n",
    "    how = \"left\"\n",
    ")\n",
    "\n",
    "window_spec_rtu = Window.partitionBy(\n",
    "    \"t.account_id\",\n",
    "    \"t.time_since_test_start\",\n",
    "    \"t.offer_id\"\n",
    ").orderBy(F.desc(\"r.time_since_test_start\"))\n",
    "\n",
    "time_to_use_from_receive = (\n",
    "    matched_receive_to_use\n",
    "    .withColumn(\"rank\", F.row_number().over(window_spec_rtu))\n",
    "    .filter(F.col(\"rank\") == 1)\n",
    "    .withColumn(\n",
    "        \"time_from_receive_to_use\",\n",
    "        F.col(\"t.time_since_test_start\") - F.col(\"r.time_since_test_start\")\n",
    "    )\n",
    "    .select(\"t.account_id\", \"t.time_since_test_start\", \"time_from_receive_to_use\")\n",
    ")\n",
    "\n",
    "transactions_enriched = (\n",
    "    transactions\n",
    "    .withColumn(\"gross_order_value\", F.col(\"amount\") + F.coalesce(F.col(\"reward\"), F.lit(0)))\n",
    "    .withColumn(\"used_offer\", F.when(F.col(\"offer_id\").isNotNull(), 1).otherwise(0))\n",
    "    .join(\n",
    "        time_to_use_from_receive,\n",
    "        on = ['account_id', 'time_since_test_start'],\n",
    "        how = \"left\"\n",
    "    )\n",
    "    .join(offers, on='offer_id', how=\"left\")\n",
    "    .drop('execution_date')\n",
    "    .select('account_id', 'time_since_test_start', 'gross_order_value', 'amount', 'reward', 'used_offer', 'offer_id', 'duration', 'duration_range', 'channel_web', 'channel_email', 'channel_mobile', 'channel_social', 'discount_value', 'min_value', 'offer_type', 'incentive_type', 'time_from_receive_to_use')\n",
    "    .withColumn('execution_date', F.current_date())\n",
    ")"
   ]
  },
  {
   "cell_type": "markdown",
   "metadata": {
    "application/vnd.databricks.v1+cell": {
     "cellMetadata": {},
     "inputWidgets": {},
     "nuid": "14dcf73e-9e5a-4a95-ad8d-ac5bd57a7f70",
     "showTitle": false,
     "tableResultSettingsMap": {},
     "title": ""
    }
   },
   "source": [
    "\n",
    "## 4.2) Criação da Tabela 'Spine'\n",
    "\n",
    "**Objetivo:** Criar a estrutura de dados base para a engenharia de features temporais.\n",
    "\n",
    "**Metodologia:**\n",
    "- A tabela 'spine' é o resultado de um `crossJoin` entre todos os `account_id` únicos e uma série contínua de dias do período de análise.\n",
    "\n",
    "- A sua função é garantir a existência de um registro para cada cliente em cada dia, mesmo em dias sem atividade. Isso é fundamental para o cálculo preciso de features de recência (\"dias desde a última compra\") e para o correto preenchimento de valores nulos em janelas de tempo.\n",
    "\n",
    "- A base `transactions` vai até o dia 29.75, o que indica que o último dia disponível que teremos para criação de features será o 29, por isso a escolha."
   ]
  },
  {
   "cell_type": "code",
   "execution_count": 0,
   "metadata": {
    "application/vnd.databricks.v1+cell": {
     "cellMetadata": {
      "byteLimit": 2048000,
      "rowLimit": 10000
     },
     "inputWidgets": {},
     "nuid": "502b9320-5e76-4c47-952e-35d58b1a5ab6",
     "showTitle": false,
     "tableResultSettingsMap": {},
     "title": ""
    }
   },
   "outputs": [],
   "source": [
    "TOTAL_DAYS = 30\n",
    "distinct_accounts = profile.select(\"account_id\").distinct()\n",
    "days_df = spark.range(0, TOTAL_DAYS).toDF(\"day\")\n",
    "\n",
    "spine_df = distinct_accounts.crossJoin(days_df)"
   ]
  },
  {
   "cell_type": "markdown",
   "metadata": {
    "application/vnd.databricks.v1+cell": {
     "cellMetadata": {},
     "inputWidgets": {},
     "nuid": "e8c23125-d5c8-4336-b8dd-be71b3eb558f",
     "showTitle": false,
     "tableResultSettingsMap": {},
     "title": ""
    }
   },
   "source": [
    "\n",
    "## 4.3) Features Históricas\n",
    "\n",
    "Nesta seção, o foco é transformar o histórico de interações de cada cliente em um conjunto de features que descrevem seu comportamento ao longo do tempo. A estratégia consiste em analisar três tipos de comportamento principais: a **visualização de ofertas**, o **recebimento de ofertas** e as **transações realizadas**.\n",
    "\n",
    "Para cada um desses comportamentos, serão criadas métricas que quantificam a **Frequência** (quantas vezes?), a **Recência** (há quanto tempo?) e a **Preferência/Valor** do cliente (quais tipos de interação e quanto foi gasto?).\n",
    "\n",
    "Ao final, todas as features comportamentais geradas serão unificadas em uma única tabela (*Feature Store*). Esta tabela será enriquecida com os dados de perfil do cliente e com taxas de conversão do funil, resultando em um dataset completo e pronto para a etapa de modelagem.\n"
   ]
  },
  {
   "cell_type": "code",
   "execution_count": 0,
   "metadata": {
    "application/vnd.databricks.v1+cell": {
     "cellMetadata": {
      "byteLimit": 2048000,
      "rowLimit": 10000
     },
     "inputWidgets": {},
     "nuid": "f60194d5-2168-48e7-81e6-d44a7dea4dd8",
     "showTitle": false,
     "tableResultSettingsMap": {},
     "title": ""
    }
   },
   "outputs": [],
   "source": [
    "WINDOWS = [5, 7, 10]"
   ]
  },
  {
   "cell_type": "markdown",
   "metadata": {
    "application/vnd.databricks.v1+cell": {
     "cellMetadata": {},
     "inputWidgets": {},
     "nuid": "dab9573c-12d9-4720-b2e8-928113535ee8",
     "showTitle": false,
     "tableResultSettingsMap": {},
     "title": ""
    }
   },
   "source": [
    "\n",
    "### 4.3.1) Visualização de Ofertas\n",
    "\n",
    "**Exemplos de Features Criadas:**\n",
    "- **Frequência:** Contagem total e de ofertas únicas visualizadas na janela (`count_offers_viewed_last_5d`).\n",
    "- **Preferência:** Contagem de visualizações por tipo de oferta (duração, incentivo, etc.).\n",
    "- **Recência:** Dias desde a última visualização (`days_since_last_view`).\n",
    "- **Moda:** Tipo de oferta mais frequentemente visualizado na janela."
   ]
  },
  {
   "cell_type": "code",
   "execution_count": 0,
   "metadata": {
    "application/vnd.databricks.v1+cell": {
     "cellMetadata": {
      "byteLimit": 2048000,
      "rowLimit": 10000
     },
     "inputWidgets": {},
     "nuid": "3dc88442-d307-4f45-9ba8-ed62bf50b75d",
     "showTitle": false,
     "tableResultSettingsMap": {},
     "title": ""
    }
   },
   "outputs": [],
   "source": [
    "# Adiciona informações da oferta na tabela de ofertas visualizadas\n",
    "offers_viewed_details = offers_viewed.join(offers, \"offer_id\", \"left\")\n",
    "\n",
    "# Agregamos as informações por dia\n",
    "daily_view_summary_df = (\n",
    "    offers_viewed_details\n",
    "    .withColumn(\"day\", F.floor(F.col(\"time_since_test_start\")).cast(\"integer\"))\n",
    "    .groupBy(\"account_id\", \"day\")\n",
    "    .agg(\n",
    "        F.count(\"*\").alias(\"offers_viewed_daily\"),\n",
    "        F.sum(F.when(F.col(\"offer_type\") == \"informational\", 1).otherwise(0)).alias(\"info_offers_viewed_daily\"),\n",
    "        F.collect_set(\"offer_id\").alias(\"unique_offers_viewed_daily\"),\n",
    "        F.sum(F.when(F.col(\"duration_range\") == \"Até 5 dias\", 1).otherwise(0)).alias(\"short_offers_viewed_daily\"),\n",
    "        F.sum(F.when(F.col(\"duration_range\") == \"Acima de 5 dias\", 1).otherwise(0)).alias(\"long_offers_viewed_daily\"),\n",
    "        F.sum(F.when(F.col(\"incentive_type\") == \"BOGO\", 1).otherwise(0)).alias(\"bogo_offers_viewed_daily\"),\n",
    "        F.sum(F.when(F.col(\"incentive_type\") == \"Até 25%\", 1).otherwise(0)).alias(\"low_inc_offers_viewed_daily\"),\n",
    "        F.sum(F.when(F.col(\"incentive_type\") == \"Até 50%\", 1).otherwise(0)).alias(\"high_inc_offers_viewed_daily\")\n",
    "    )\n",
    ")\n",
    "\n",
    "# Pegamos a spine para considerar todas as datas, não só os dias onde houve visualização\n",
    "features_df = spine_df.join(daily_view_summary_df, on=[\"account_id\", \"day\"], how=\"left\")\n",
    "\n",
    "# Construção de features que olham para os dias anteriores\n",
    "window_specs = {f\"{w}d\": Window.partitionBy(\"account_id\").orderBy(\"day\").rangeBetween(-w, -1) for w in WINDOWS}\n",
    "for w_name, w_spec in window_specs.items():\n",
    "    features_df = (\n",
    "        features_df\n",
    "        .withColumn(f\"count_offers_viewed_last_{w_name}\", F.sum(\"offers_viewed_daily\").over(w_spec))\n",
    "        .withColumn(f\"count_info_offers_viewed_last_{w_name}\", F.sum(\"info_offers_viewed_daily\").over(w_spec))\n",
    "        .withColumn(\n",
    "            f\"count_unique_offers_viewed_last_{w_name}\",\n",
    "            F.size(F.array_distinct(F.flatten(F.collect_list(\"unique_offers_viewed_daily\").over(w_spec))))\n",
    "        )\n",
    "        .withColumn(f\"count_short_offers_viewed_last_{w_name}\", F.sum(\"short_offers_viewed_daily\").over(w_spec))\n",
    "        .withColumn(f\"count_long_offers_viewed_last_{w_name}\", F.sum(\"long_offers_viewed_daily\").over(w_spec))\n",
    "        .withColumn(f\"count_bogo_offers_viewed_last_{w_name}\", F.sum(\"bogo_offers_viewed_daily\").over(w_spec))\n",
    "        .withColumn(f\"count_low_inc_offers_viewed_last_{w_name}\", F.sum(\"low_inc_offers_viewed_daily\").over(w_spec))\n",
    "        .withColumn(f\"count_high_inc_offers_viewed_last_{w_name}\", F.sum(\"high_inc_offers_viewed_daily\").over(w_spec))\n",
    "    )\n",
    "\n",
    "# Feature de recência\n",
    "last_view_day_window = Window.partitionBy(\"account_id\").orderBy(\"day\").rowsBetween(Window.unboundedPreceding, -1)\n",
    "features_df = (\n",
    "    features_df\n",
    "    .withColumn(\n",
    "        \"last_view_day\",\n",
    "        F.last(F.when(F.col(\"offers_viewed_daily\") > 0, F.col(\"day\")), ignorenulls=True).over(last_view_day_window)\n",
    "    )\n",
    "    .withColumn(\n",
    "        \"days_since_last_view\",\n",
    "        F.col(\"day\") - F.col(\"last_view_day\")\n",
    "    )\n",
    ")\n",
    "\n",
    "# Features de moda\n",
    "for w in WINDOWS:\n",
    "    w_name = f\"{w}d\"\n",
    "    features_df = (\n",
    "        features_df\n",
    "        .withColumn(\n",
    "            f\"most_frequent_duration_viewed_last_{w_name}\",\n",
    "            F.when(F.col(f\"count_short_offers_viewed_last_{w_name}\") > F.col(f\"count_long_offers_viewed_last_{w_name}\"), \"Até 5 dias\")\n",
    "             .when(F.col(f\"count_long_offers_viewed_last_{w_name}\") > F.col(f\"count_short_offers_viewed_last_{w_name}\"), \"Acima de 5 dias\")\n",
    "             .otherwise(\"Empate/Nenhum\")\n",
    "        )\n",
    "        .withColumn(\n",
    "            f\"most_frequent_incentive_viewed_last_{w_name}\",\n",
    "            F.when((F.col(f\"count_bogo_offers_viewed_last_{w_name}\") >= F.col(f\"count_low_inc_offers_viewed_last_{w_name}\")) & (F.col(f\"count_bogo_offers_viewed_last_{w_name}\") >= F.col(f\"count_high_inc_offers_viewed_last_{w_name}\")), \"BOGO\")\n",
    "             .when((F.col(f\"count_low_inc_offers_viewed_last_{w_name}\") > F.col(f\"count_bogo_offers_viewed_last_{w_name}\")) & (F.col(f\"count_low_inc_offers_viewed_last_{w_name}\") >= F.col(f\"count_high_inc_offers_viewed_last_{w_name}\")), \"Até 25%\")\n",
    "             .when((F.col(f\"count_high_inc_offers_viewed_last_{w_name}\") > F.col(f\"count_bogo_offers_viewed_last_{w_name}\")) & (F.col(f\"count_high_inc_offers_viewed_last_{w_name}\") > F.col(f\"count_low_inc_offers_viewed_last_{w_name}\")), \"Até 50%\")\n",
    "             .otherwise(\"Nenhum\")\n",
    "        )\n",
    "    )\n",
    "\n",
    "# Retirando features que não serão usadas na modelagem\n",
    "interim_cols = [c for c in features_df.columns if \"_daily\" in c or \"last_view_day\" in c]\n",
    "features_viewed_df = features_df.drop(*interim_cols)\n",
    "\n",
    "# Features de contagem podem ter os nulos imputados com 0\n",
    "count_cols = [c for c in features_viewed_df.columns if \"count\" in c]\n",
    "features_viewed_df = features_viewed_df.fillna(0, subset=count_cols)"
   ]
  },
  {
   "cell_type": "markdown",
   "metadata": {
    "application/vnd.databricks.v1+cell": {
     "cellMetadata": {},
     "inputWidgets": {},
     "nuid": "13090600-39e8-453f-b2a3-7e51750a5231",
     "showTitle": false,
     "tableResultSettingsMap": {},
     "title": ""
    }
   },
   "source": [
    "\n",
    "### 4.3.2) Recebimento de Ofertas\n",
    "\n",
    "**Exemplos de Features Criadas:**\n",
    "- **Frequência:** Contagem total e de ofertas únicas recebidas na janela (`count_offers_received_last_5d`).\n",
    "- **Preferência:** Contagem de recebimentos por tipo de oferta (duração, incentivo, etc.).\n",
    "- **Recência:** Dias desde o último recebimento (`days_since_last_offer_received`).\n",
    "- **Moda:** Tipo de oferta mais frequentemente recebida na janela."
   ]
  },
  {
   "cell_type": "code",
   "execution_count": 0,
   "metadata": {
    "application/vnd.databricks.v1+cell": {
     "cellMetadata": {
      "byteLimit": 2048000,
      "rowLimit": 10000
     },
     "inputWidgets": {},
     "nuid": "eb9666b9-e138-4c0b-9973-a26dc0f6a594",
     "showTitle": false,
     "tableResultSettingsMap": {},
     "title": ""
    }
   },
   "outputs": [],
   "source": [
    "# Adiciona informações da oferta na tabela de ofertas recebidas\n",
    "offers_received_details = offers_received.join(offers, on=\"offer_id\", how=\"left\")\n",
    "\n",
    "# Agregamos as informações por dia\n",
    "daily_received_summary_df = (\n",
    "    offers_received_details\n",
    "    .withColumn(\"day\", F.floor(F.col(\"time_since_test_start\")).cast(\"integer\"))\n",
    "    .groupBy(\"account_id\", \"day\")\n",
    "    .agg(\n",
    "        F.count(\"*\").alias(\"offers_received_on_day\"),\n",
    "        F.sum(F.when(F.col(\"offer_type\") == \"informational\", 1).otherwise(0)).alias(\"info_offers_received_daily\"),\n",
    "        F.collect_set(\"offer_id\").alias(\"unique_offers_received_daily\"),\n",
    "        F.sum(F.when(F.col(\"duration_range\") == \"Até 5 dias\", 1).otherwise(0)).alias(\"short_offers_received_daily\"),\n",
    "        F.sum(F.when(F.col(\"duration_range\") == \"Acima de 5 dias\", 1).otherwise(0)).alias(\"long_offers_received_daily\"),\n",
    "        F.sum(F.when(F.col(\"incentive_type\") == \"BOGO\", 1).otherwise(0)).alias(\"bogo_offers_received_daily\"),\n",
    "        F.sum(F.when(F.col(\"incentive_type\") == \"Até 25%\", 1).otherwise(0)).alias(\"low_inc_offers_received_daily\"),\n",
    "        F.sum(F.when(F.col(\"incentive_type\") == \"Até 50%\", 1).otherwise(0)).alias(\"high_inc_offers_received_daily\")\n",
    "    )\n",
    ")\n",
    "\n",
    "# Pegamos a spine para considerar todas as datas, não só os dias onde houve recebimento\n",
    "features_df = spine_df.join(daily_received_summary_df, on=[\"account_id\", \"day\"], how=\"left\")\n",
    "\n",
    "# Construção de features que olham para os dias anteriores\n",
    "window_specs = {f\"{w}d\": Window.partitionBy(\"account_id\").orderBy(\"day\").rangeBetween(-w, -1) for w in WINDOWS}\n",
    "for w_name, w_spec in window_specs.items():\n",
    "    features_df = (\n",
    "        features_df\n",
    "        .withColumn(f\"count_offers_received_last_{w_name}\", F.sum(\"offers_received_on_day\").over(w_spec))\n",
    "        .withColumn(f\"count_info_offers_received_last_{w_name}\", F.sum(\"info_offers_received_daily\").over(w_spec))\n",
    "        .withColumn(\n",
    "            f\"count_unique_offers_received_last_{w_name}\",\n",
    "            F.size(F.array_distinct(F.flatten(F.collect_list(\"unique_offers_received_daily\").over(w_spec))))\n",
    "        )\n",
    "        .withColumn(f\"count_short_offers_received_last_{w_name}\", F.sum(\"short_offers_received_daily\").over(w_spec))\n",
    "        .withColumn(f\"count_long_offers_received_last_{w_name}\", F.sum(\"long_offers_received_daily\").over(w_spec))\n",
    "        .withColumn(f\"count_bogo_offers_received_last_{w_name}\", F.sum(\"bogo_offers_received_daily\").over(w_spec))\n",
    "        .withColumn(f\"count_low_inc_offers_received_last_{w_name}\", F.sum(\"low_inc_offers_received_daily\").over(w_spec))\n",
    "        .withColumn(f\"count_high_inc_offers_received_last_{w_name}\", F.sum(\"high_inc_offers_received_daily\").over(w_spec))\n",
    "    )\n",
    "\n",
    "# Feature de recência\n",
    "last_received_day_window = Window.partitionBy(\"account_id\").orderBy(\"day\").rowsBetween(Window.unboundedPreceding, -1)\n",
    "features_df = (\n",
    "    features_df\n",
    "    .withColumn(\n",
    "        \"last_received_day\",\n",
    "        F.last(F.when(F.col(\"offers_received_on_day\") > 0, F.col(\"day\")), ignorenulls=True).over(last_received_day_window)\n",
    "    )\n",
    "    .withColumn(\n",
    "        \"days_since_last_offer_received\",\n",
    "        F.col(\"day\") - F.col(\"last_received_day\")\n",
    "    )\n",
    ")\n",
    "\n",
    "# Features de moda\n",
    "for w in WINDOWS:\n",
    "    w_name = f\"{w}d\"\n",
    "    features_df = (\n",
    "        features_df\n",
    "        .withColumn(\n",
    "            f\"most_frequent_duration_received_last_{w_name}\",\n",
    "            F.when(F.col(f\"count_short_offers_received_last_{w_name}\") > F.col(f\"count_long_offers_received_last_{w_name}\"), \"Até 5 dias\")\n",
    "             .when(F.col(f\"count_long_offers_received_last_{w_name}\") > F.col(f\"count_short_offers_received_last_{w_name}\"), \"Acima de 5 dias\")\n",
    "             .otherwise(\"Empate/Nenhum\")\n",
    "        )\n",
    "        .withColumn(\n",
    "            f\"most_frequent_incentive_received_last_{w_name}\",\n",
    "            F.when((F.col(f\"count_bogo_offers_received_last_{w_name}\") >= F.col(f\"count_low_inc_offers_received_last_{w_name}\")) & (F.col(f\"count_bogo_offers_received_last_{w_name}\") >= F.col(f\"count_high_inc_offers_received_last_{w_name}\")), \"BOGO\")\n",
    "             .when((F.col(f\"count_low_inc_offers_received_last_{w_name}\") > F.col(f\"count_bogo_offers_received_last_{w_name}\")) & (F.col(f\"count_low_inc_offers_received_last_{w_name}\") >= F.col(f\"count_high_inc_offers_received_last_{w_name}\")), \"Até 25%\")\n",
    "             .when((F.col(f\"count_high_inc_offers_received_last_{w_name}\") > F.col(f\"count_bogo_offers_received_last_{w_name}\")) & (F.col(f\"count_high_inc_offers_received_last_{w_name}\") > F.col(f\"count_low_inc_offers_received_last_{w_name}\")), \"Até 50%\")\n",
    "             .otherwise(\"Nenhum\")\n",
    "        )\n",
    "    )\n",
    "\n",
    "# Retirando features que não serão usadas na modelagem\n",
    "interim_cols = [c for c in features_df.columns if \"_daily\" in c or \"last_received_day\" in c]\n",
    "features_received_df = features_df.drop(*interim_cols)\n",
    "\n",
    "# Features de contagem podem ter os nulos imputados com 0\n",
    "count_cols = [c for c in features_received_df.columns if \"count\" in c]\n",
    "features_received_df = features_received_df.fillna(0, subset=count_cols)"
   ]
  },
  {
   "cell_type": "markdown",
   "metadata": {
    "application/vnd.databricks.v1+cell": {
     "cellMetadata": {},
     "inputWidgets": {},
     "nuid": "42106fc8-1456-4100-8dd8-27b61dd10d2f",
     "showTitle": false,
     "tableResultSettingsMap": {},
     "title": ""
    }
   },
   "source": [
    "\n",
    "### 4.3.3) Transações Realizadas\n",
    "\n",
    "**Exemplos de Features Criadas:**\n",
    "- **Frequência:** Número de transações totais, com oferta e orgânicas.\n",
    "- **Valor Monetário:** Soma do GOV (`gross_order_value`), soma dos descontos e ticket médio (`avg_ticket`).\n",
    "- **Preferência de Oferta:** Proporção de transações por tipo de oferta utilizada (`share_bogo_transactions`).\n",
    "- **Recência:** Dias desde a última transação (`days_since_last_transaction`)."
   ]
  },
  {
   "cell_type": "code",
   "execution_count": 0,
   "metadata": {
    "application/vnd.databricks.v1+cell": {
     "cellMetadata": {
      "byteLimit": 2048000,
      "rowLimit": 10000
     },
     "inputWidgets": {},
     "nuid": "f95e6cb6-50f7-4d0e-a1a1-080a8eac39c3",
     "showTitle": false,
     "tableResultSettingsMap": {},
     "title": ""
    }
   },
   "outputs": [],
   "source": [
    "# Agregamos as informações por dia\n",
    "daily_transactions_summary_df = (\n",
    "    transactions_enriched\n",
    "    .withColumn(\"day\", F.floor(F.col(\"time_since_test_start\")).cast(\"integer\"))\n",
    "    .groupBy(\"account_id\", \"day\")\n",
    "    .agg(\n",
    "        # Contagens\n",
    "        F.count(\"*\").alias(\"transaction_count_daily\"),\n",
    "        F.sum(\"used_offer\").alias(\"offer_transaction_count_daily\"),\n",
    "        \n",
    "        # Agregações de Valor\n",
    "        F.sum(\"gross_order_value\").alias(\"gov_sum_daily\"),\n",
    "        F.sum(F.when(F.col(\"used_offer\") == 1, F.col(\"gross_order_value\"))).alias(\"gov_offer_sum_daily\"),\n",
    "        F.sum(\"reward\").alias(\"reward_sum_daily\"),\n",
    "\n",
    "        # Contagens por tipo de oferta usada\n",
    "        F.sum(F.when(F.col(\"offer_type\") == \"bogo\", 1).otherwise(0)).alias(\"bogo_transaction_count_daily\"),\n",
    "        F.sum(F.when(F.col(\"offer_type\") == \"discount\", 1).otherwise(0)).alias(\"discount_transaction_count_daily\"),\n",
    "        \n",
    "        # Agregados para a média de tempo de conversão\n",
    "        F.max(\"time_from_receive_to_use\").alias(\"max_time_to_completion_daily\")\n",
    "    )\n",
    ")\n",
    "\n",
    "# Pegamos a spine para considerar todas as datas, não só os dias onde houve transação\n",
    "features_df = spine_df.join(daily_transactions_summary_df, on=[\"account_id\", \"day\"], how=\"left\")\n",
    "\n",
    "# Construção de features que olham para os dias anteriores\n",
    "window_specs = {f\"{w}d\": Window.partitionBy(\"account_id\").orderBy(\"day\").rangeBetween(-w, -1) for w in WINDOWS}\n",
    "for w_name, w_spec in window_specs.items():\n",
    "    features_df = (\n",
    "        features_df\n",
    "        # Contagens\n",
    "        .withColumn(f\"transaction_count_last_{w_name}\", F.sum(\"transaction_count_daily\").over(w_spec))\n",
    "        .withColumn(f\"offer_transaction_count_last_{w_name}\", F.sum(\"offer_transaction_count_daily\").over(w_spec))\n",
    "        \n",
    "        # Somas de Valor\n",
    "        .withColumn(f\"gov_sum_last_{w_name}\", F.sum(\"gov_sum_daily\").over(w_spec))\n",
    "        .withColumn(f\"reward_sum_last_{w_name}\", F.sum(\"reward_sum_daily\").over(w_spec))\n",
    "        \n",
    "        # Contagens por tipo\n",
    "        .withColumn(f\"bogo_transaction_count_last_{w_name}\", F.sum(\"bogo_transaction_count_daily\").over(w_spec))\n",
    "        .withColumn(f\"discount_transaction_count_last_{w_name}\", F.sum(\"discount_transaction_count_daily\").over(w_spec))\n",
    "        \n",
    "        # Agregados para tempo de conversão\n",
    "        .withColumn(f\"sum_time_to_completion_last_{w_name}\", F.sum(\"max_time_to_completion_daily\").over(w_spec))\n",
    "    )\n",
    "\n",
    "# Feature de recência\n",
    "last_transaction_day_window = Window.partitionBy(\"account_id\").orderBy(\"day\").rowsBetween(Window.unboundedPreceding, -1)\n",
    "features_df = (\n",
    "    features_df\n",
    "    .withColumn(\n",
    "        \"last_transaction_day\",\n",
    "        F.last(F.when(F.col(\"transaction_count_daily\") > 0, F.col(\"day\")), ignorenulls=True).over(last_transaction_day_window)\n",
    "    )\n",
    "    .withColumn(\n",
    "        \"days_since_last_transaction\",\n",
    "        F.col(\"day\") - F.col(\"last_transaction_day\")\n",
    "    )\n",
    ")\n",
    "\n",
    "# Features de ticket médio e share\n",
    "for w in WINDOWS:\n",
    "    w_name = f\"{w}d\"\n",
    "    features_df = (\n",
    "        features_df\n",
    "        .withColumn(\n",
    "            f\"organic_transaction_count_last_{w_name}\",\n",
    "            F.col(f\"transaction_count_last_{w_name}\") - F.col(f\"offer_transaction_count_last_{w_name}\")\n",
    "        )\n",
    "        .withColumn(\n",
    "            f\"avg_ticket_last_{w_name}\",\n",
    "            F.when(F.col(f\"transaction_count_last_{w_name}\") > 0, F.col(f\"gov_sum_last_{w_name}\") / F.col(f\"transaction_count_last_{w_name}\"))\n",
    "        )\n",
    "        .withColumn(\n",
    "            f\"avg_time_to_completion_last_{w_name}\",\n",
    "            F.when(F.col(f\"offer_transaction_count_last_{w_name}\") > 0, F.col(f\"sum_time_to_completion_last_{w_name}\") / F.col(f\"offer_transaction_count_last_{w_name}\"))\n",
    "        )\n",
    "        .withColumn(\n",
    "            f\"share_bogo_transactions_last_{w_name}\",\n",
    "            F.when(\n",
    "                F.col(f\"offer_transaction_count_last_{w_name}\") > 0,\n",
    "                F.coalesce(F.col(f\"bogo_transaction_count_last_{w_name}\"), F.lit(0)) / F.col(f\"offer_transaction_count_last_{w_name}\")\n",
    "            )\n",
    "        )\n",
    "        .withColumn(\n",
    "            f\"share_discount_transactions_last_{w_name}\",\n",
    "            F.when(\n",
    "                F.col(f\"offer_transaction_count_last_{w_name}\") > 0,\n",
    "                F.coalesce(F.col(f\"discount_transaction_count_last_{w_name}\"), F.lit(0)) / F.col(f\"offer_transaction_count_last_{w_name}\")\n",
    "             )\n",
    "        )\n",
    "    )\n",
    "\n",
    "# Retirando features que não serão usadas na modelagem\n",
    "interim_cols = [c for c in features_df.columns if \"_daily\" in c or \"last_transaction_day\" in c]\n",
    "features_transactions_df = features_df.drop(*interim_cols)\n",
    "\n",
    "# Features de contagem podem ter os nulos imputados com 0\n",
    "count_sum_cols = [c for c in features_transactions_df.columns if (\"count\" in c or \"sum\" in c or \"share\" in c)]\n",
    "features_transactions_df = features_transactions_df.fillna(0, subset=count_sum_cols)"
   ]
  },
  {
   "cell_type": "markdown",
   "metadata": {
    "application/vnd.databricks.v1+cell": {
     "cellMetadata": {},
     "inputWidgets": {},
     "nuid": "647311a4-95f3-4e47-a936-74708fbdc11e",
     "showTitle": false,
     "tableResultSettingsMap": {},
     "title": ""
    }
   },
   "source": [
    "\n",
    "### 4.3.4) Consolidação da *Feature Store*\n",
    "\n",
    "**Objetivo:** Unificar todas as features criadas (comportamentais e de perfil) em uma única tabela final.\n",
    "\n",
    "**Ações Executadas:**\n",
    "- **Unificação das Features:** As tabelas de features (`transactions`, `received`, `viewed`) são unidas sobre a `spine`.\n",
    "\n",
    "- **Criação de Taxas de Conversão:** São calculadas métricas de funil, como `view_rate` (visualizações / recebimentos) e `usage_rate` (usos / visualizações).\n",
    "\n",
    "- **Adição dos Dados de Perfil:** As features estáticas da tabela `profile_silver` são adicionadas a cada registro diário.\n",
    "\n",
    "- **Finalização:** O resultado é a tabela `customer_daily_features`, que constitui a Feature Store completa, pronta para ser utilizada na criação das tabelas de modelagem (ABTs)."
   ]
  },
  {
   "cell_type": "code",
   "execution_count": 0,
   "metadata": {
    "application/vnd.databricks.v1+cell": {
     "cellMetadata": {
      "byteLimit": 2048000,
      "rowLimit": 10000
     },
     "inputWidgets": {},
     "nuid": "c2082117-07f1-4792-95e4-a4b0fe654933",
     "showTitle": false,
     "tableResultSettingsMap": {},
     "title": ""
    }
   },
   "outputs": [],
   "source": [
    "# Junção de todas as features criadas\n",
    "final_features_df = (\n",
    "    features_transactions_df\n",
    "    .join(features_received_df, on=[\"account_id\", \"day\"], how=\"left\")\n",
    "    .join(features_viewed_df, on=[\"account_id\", \"day\"], how=\"left\")\n",
    ")\n",
    "\n",
    "# Criação de features derivadas como taxa de abertura\n",
    "for w in WINDOWS:\n",
    "    w_name = f\"{w}d\"\n",
    "    \n",
    "    received_col = f\"count_offers_received_last_{w_name}\"\n",
    "    viewed_col = f\"count_offers_viewed_last_{w_name}\"\n",
    "    used_col = f\"offer_transaction_count_last_{w_name}\"\n",
    "\n",
    "    final_features_df = (\n",
    "        final_features_df\n",
    "        .withColumn(\n",
    "            f\"view_rate_last_{w_name}\",\n",
    "            F.when(\n",
    "                F.col(received_col) > 0,\n",
    "                F.coalesce(F.col(viewed_col), F.lit(0)) / F.col(received_col)\n",
    "            )\n",
    "        )\n",
    "        .withColumn(\n",
    "            f\"usage_rate_from_received_last_{w_name}\",\n",
    "            F.when(\n",
    "                F.col(received_col) > 0,\n",
    "                F.coalesce(F.col(used_col), F.lit(0)) / F.col(received_col)\n",
    "            )\n",
    "        )\n",
    "        .withColumn(\n",
    "            f\"usage_rate_from_viewed_last_{w_name}\",\n",
    "            F.when(\n",
    "                F.col(viewed_col) > 0,\n",
    "                F.coalesce(F.col(used_col), F.lit(0)) / F.col(viewed_col)\n",
    "            )\n",
    "        )\n",
    "    )\n",
    "\n",
    "# Adição de features cadastrais\n",
    "customer_daily_features = final_features_df.join(profile.drop('execution_date'), on=\"account_id\", how=\"left\")\n",
    "\n",
    "# Imputando com 0 os nulos em features de contagem\n",
    "all_count_sum_cols = [c for c in customer_daily_features.columns if (\"count\" in c or \"sum\" in c)]\n",
    "customer_daily_features = customer_daily_features.fillna(0, subset=all_count_sum_cols)\n",
    "\n",
    "customer_daily_features = customer_daily_features.withColumn(\"execution_date\", F.current_date())"
   ]
  },
  {
   "cell_type": "markdown",
   "metadata": {
    "application/vnd.databricks.v1+cell": {
     "cellMetadata": {},
     "inputWidgets": {},
     "nuid": "d3e02218-5764-403f-b85e-828aa5937df2",
     "showTitle": false,
     "tableResultSettingsMap": {},
     "title": ""
    }
   },
   "source": [
    "\n",
    "### 4.3.5) Salvando a *Feature Store* na camada *Gold*"
   ]
  },
  {
   "cell_type": "code",
   "execution_count": 0,
   "metadata": {
    "application/vnd.databricks.v1+cell": {
     "cellMetadata": {
      "byteLimit": 2048000,
      "rowLimit": 10000
     },
     "inputWidgets": {},
     "nuid": "675f4bbb-963f-4f79-8ade-e7ea614b62ba",
     "showTitle": false,
     "tableResultSettingsMap": {},
     "title": ""
    }
   },
   "outputs": [],
   "source": [
    "save_as_parquet(customer_daily_features, f\"{PATH_VOLUME}/gold/customer_daily_features\")"
   ]
  },
  {
   "cell_type": "markdown",
   "metadata": {
    "application/vnd.databricks.v1+cell": {
     "cellMetadata": {},
     "inputWidgets": {},
     "nuid": "a87c2e3c-0550-4dd1-b606-281e1e2bde44",
     "showTitle": false,
     "tableResultSettingsMap": {},
     "title": ""
    }
   },
   "source": [
    "\n",
    "# 5) Definição e Construção da Variável Alvo (*Target*)\n",
    "A escolha da variável alvo é uma das decisões mais críticas do projeto, pois ela define o que o modelo tentará prever e, consequentemente, como o sucesso de uma campanha de ofertas será medido.\n",
    "\n",
    "### Discussão sobre a Escolha da Métrica\n",
    "Uma métrica inicial considerada foi a conversão direta da oferta, ou seja, se o cliente **usou ou não o cupom** enviado. Embora seja uma métrica válida, ela oferece uma visão limitada do impacto real da campanha. O sucesso de uma estratégia de marketing não se resume a uma única transação, mas sim à sua capacidade de **influenciar positivamente o comportamento de compra do cliente a médio e longo prazo**.  \n",
    "Por exemplo, um cliente pode não utilizar o cupom específico que recebeu, mas o estímulo da oferta pode tê-lo lembrado da marca, levando-o a realizar mais compras orgânicas nos dias seguintes. Este é um efeito positivo e desejável da campanha que a simples métrica de uso de cupom não capturaria.\n",
    "\n",
    "\n",
    "### Variável Alvo Adotada: Gasto Futuro\n",
    "Com base nessa perspectiva, a variável alvo adotada foi o **valor total que o cliente gasta (`gross_oder_value`) em uma janela de tempo futura**.  \n",
    "**Como é calculada:** Para cada cliente e para cada dia no nosso dataset, nós \"olhamos para o futuro\" e somamos todo o valor que ele gastou nos próximos `X` dias."
   ]
  },
  {
   "cell_type": "code",
   "execution_count": 0,
   "metadata": {
    "application/vnd.databricks.v1+cell": {
     "cellMetadata": {
      "byteLimit": 2048000,
      "rowLimit": 10000
     },
     "inputWidgets": {},
     "nuid": "b23de659-5784-4d02-8264-6a883c1de734",
     "showTitle": false,
     "tableResultSettingsMap": {},
     "title": ""
    }
   },
   "outputs": [],
   "source": [
    "TARGET_WINDOWS = [5, 10]\n",
    "\n",
    "# Se o cliente recebeu oferta num dia específico (servirá para separar as ABTs)\n",
    "received_offer_next_days_df = (\n",
    "    features_received_df\n",
    "    .select('account_id', 'day', 'offers_received_on_day')\n",
    ")\n",
    "\n",
    "# Total gasto no dia\n",
    "daily_outcomes_summary_df = (\n",
    "    transactions_enriched\n",
    "    .withColumn(\"day\", F.floor(F.col(\"time_since_test_start\")).cast(\"integer\"))\n",
    "    .groupBy(\"account_id\", \"day\")\n",
    "    .agg(\n",
    "        F.sum(\"gross_order_value\").alias(\"gov_on_day\")\n",
    "    )\n",
    ")\n",
    "\n",
    "# Junção das informações acima\n",
    "features_df = (\n",
    "    spine_df\n",
    "    .join(daily_outcomes_summary_df, on=[\"account_id\", \"day\"], how=\"left\")\n",
    "    .join(received_offer_next_days_df, on=[\"account_id\", \"day\"], how=\"left\")\n",
    ")\n",
    "\n",
    "# Percorre a janela futura e calcula o gasto total e se recebeu oferta\n",
    "for w in TARGET_WINDOWS:\n",
    "    w_spec_future = Window.partitionBy(\"account_id\").orderBy(\"day\").rangeBetween(0, w)\n",
    "    \n",
    "    features_df = (\n",
    "        features_df\n",
    "        .withColumn(f\"spend_next_{w}d\", F.sum(\"gov_on_day\").over(w_spec_future))\n",
    "        .withColumn(f\"received_offer_next_{w}d\", F.sum(\"offers_received_on_day\").over(w_spec_future))\n",
    "    )\n",
    "\n",
    "# Tabela final de target\n",
    "daily_targets = (\n",
    "    features_df\n",
    "    .select(\n",
    "        \"account_id\",\n",
    "        \"day\",\n",
    "        *[f\"spend_next_{w}d\" for w in TARGET_WINDOWS],\n",
    "        *[f\"received_offer_next_{w}d\" for w in TARGET_WINDOWS],\n",
    "    )\n",
    ")\n",
    "\n",
    "# Se não transacionou nos próximos X dias a target é 0\n",
    "daily_targets = daily_targets.fillna(0)"
   ]
  },
  {
   "cell_type": "code",
   "execution_count": 0,
   "metadata": {
    "application/vnd.databricks.v1+cell": {
     "cellMetadata": {
      "byteLimit": 2048000,
      "rowLimit": 10000
     },
     "inputWidgets": {},
     "nuid": "6cc4166d-11ef-4572-bf10-cc08469ced38",
     "showTitle": false,
     "tableResultSettingsMap": {},
     "title": ""
    }
   },
   "outputs": [],
   "source": [
    "save_as_parquet(daily_targets, f\"{PATH_VOLUME}/gold/daily_targets\")"
   ]
  },
  {
   "cell_type": "markdown",
   "metadata": {
    "application/vnd.databricks.v1+cell": {
     "cellMetadata": {},
     "inputWidgets": {},
     "nuid": "4baeec0b-f7a5-4c7d-a422-fe34e267790c",
     "showTitle": false,
     "tableResultSettingsMap": {},
     "title": ""
    }
   },
   "source": [
    "\n",
    "# 6) Construção das ABTs\n",
    "\n",
    "Para resolver o desafio de qual oferta enviar a cada cliente, nossa estratégia se baseia em comparar o resultado de duas situações possíveis. Em vez de construir um único modelo genérico, optamos por desenvolver **dois modelos preditivos especialistas**, cada um focado em um cenário de negócio distinto.\n",
    "\n",
    "A questão fundamental que queremos responder é: **Para um determinado cliente, qual é o impacto financeiro esperado se enviarmos uma oferta versus se não fizermos nada?**\n",
    "\n",
    "Para isso, precisamos prever o comportamento do cliente em cada um desses dois cenários.\n",
    "\n",
    "### A Estratégia: Comparação de Cenários Preditivos\n",
    "\n",
    "A abordagem consiste em:\n",
    "\n",
    "1.  **Construir um modelo especialista em prever o gasto de um cliente quando ele recebe uma oferta.** Este modelo aprenderá como diferentes perfis de clientes reagem a diferentes tipos de incentivos.\n",
    "2.  **Construir um segundo modelo especialista em prever o gasto \"orgânico\" de um cliente**, ou seja, seu comportamento de compra natural, sem a influência de uma campanha. Este modelo nos dará uma linha de base (baseline) do que esperar de cada cliente.\n",
    "\n",
    "A decisão de qual oferta enviar (ou se não devemos enviar nenhuma) virá da comparação das predições desses dois modelos. Buscaremos a ação que maximize o retorno financeiro esperado.\n",
    "\n",
    "`Impacto Financeiro Estimado = (Gasto Previsto COM Oferta) - (Gasto Previsto SEM Oferta)`\n",
    "\n",
    "Para treinar esses modelos especialistas, precisamos de conjuntos de dados (ABTs) que representem fielmente cada um desses cenários.\n",
    "\n",
    "---\n",
    "\n",
    "### ABT 1: `abt_offer` (Dados para o Modelo de Cenário COM Oferta)\n",
    "\n",
    "**Objetivo:** Criar um conjunto de dados para treinar um modelo que aprenda a prever o gasto de um cliente **após receber o estímulo de uma oferta específica**.\n",
    "\n",
    "**Composição:**\n",
    "- **População:** A tabela é formada por registros de clientes nos dias em que eles **receberam uma oferta**.\n",
    "- **Features:** Inclui todas as features históricas do cliente no momento do recebimento, além das **características da própria oferta** (tipo, duração, valor, etc.). As features da oferta são cruciais aqui, pois o modelo precisa aprender seu impacto.\n",
    "- **Target:** O gasto futuro do cliente (`spend_next_X_days`).\n",
    "\n",
    "---\n",
    "\n",
    "### ABT 2: `abt_baseline` (Dados para o Modelo de Cenário SEM Oferta)\n",
    "\n",
    "**Objetivo:** Criar um conjunto de dados para treinar um modelo que preveja o comportamento de gasto **orgânico e natural** de um cliente.\n",
    "\n",
    "**Composição:**\n",
    "- **População:** A tabela é composta por registros de clientes em dias que eles **não receberam nenhuma oferta**.\n",
    "- **Features:** Contém apenas as features históricas do cliente. Não há features de oferta, pois este é um cenário sem estímulos.\n",
    "- **Target:** O gasto futuro do cliente (`spend_next_X_days`).\n",
    "\n",
    "Com essa estrutura, cada modelo se torna um especialista em seu domínio. Ao combiná-los, criamos um sistema de decisão robusto que compara cenários futuros para tomar a melhor ação no presente, focando sempre em maximizar o valor gerado para o negócio."
   ]
  },
  {
   "cell_type": "code",
   "execution_count": 0,
   "metadata": {
    "application/vnd.databricks.v1+cell": {
     "cellMetadata": {
      "byteLimit": 2048000,
      "rowLimit": 10000
     },
     "inputWidgets": {},
     "nuid": "a93fe83e-7d43-4329-b845-6e693f286170",
     "showTitle": false,
     "tableResultSettingsMap": {},
     "title": ""
    }
   },
   "outputs": [],
   "source": [
    "# ABT Modelo 1: Prever gasto total dado que recebeu cupom\n",
    "window_spec_first_offer = Window.partitionBy(\"account_id\", \"day\").orderBy(\"time_since_test_start\")\n",
    "\n",
    "first_offer_of_the_day_df = (\n",
    "    offers_received\n",
    "    .withColumn(\"day\", F.floor(F.col(\"time_since_test_start\")).cast(\"integer\"))\n",
    "    .withColumn(\"rank\", F.row_number().over(window_spec_first_offer))\n",
    "    .filter(F.col(\"rank\") == 1)\n",
    "    .select(\"account_id\", \"day\", \"offer_id\")\n",
    ")\n",
    "\n",
    "abt_offer = (\n",
    "    first_offer_of_the_day_df\n",
    "    .join(customer_daily_features, on=[\"account_id\", \"day\"], how=\"inner\")\n",
    "    .join(daily_targets, on=[\"account_id\", \"day\"], how=\"left\")\n",
    "    .join(offers, on=\"offer_id\", how=\"left\")\n",
    "    .drop('execution_date')\n",
    "    .withColumn('execution_date', F.current_date())\n",
    ")\n",
    "\n",
    "# ABT Modelo 2: Prever gasto total dado que não recebeu oferta naquele dia\n",
    "SAMPLING_FRACTION = 0.2 # Pegar apenas uma amostra da população\n",
    "abt_baseline = (\n",
    "    customer_daily_features\n",
    "    .filter(F.col(\"offers_received_on_day\").isNull())\n",
    "    .sample(withReplacement=False, fraction=SAMPLING_FRACTION, seed=42)\n",
    "    .join(daily_targets, on=[\"account_id\", \"day\"], how=\"left\")\n",
    "    .drop('execution_date')\n",
    "    .withColumn('execution_date', F.current_date())\n",
    ")"
   ]
  },
  {
   "cell_type": "code",
   "execution_count": 0,
   "metadata": {
    "application/vnd.databricks.v1+cell": {
     "cellMetadata": {
      "byteLimit": 2048000,
      "rowLimit": 10000
     },
     "inputWidgets": {},
     "nuid": "884d351a-9f77-4d67-ab5e-eb5c9a6f1cb5",
     "showTitle": false,
     "tableResultSettingsMap": {},
     "title": ""
    }
   },
   "outputs": [],
   "source": [
    "save_as_parquet(abt_offer, f\"{PATH_VOLUME}/gold/abt_offer\")\n",
    "save_as_parquet(abt_baseline, f\"{PATH_VOLUME}/gold/abt_baseline\")"
   ]
  },
  {
   "cell_type": "markdown",
   "metadata": {
    "application/vnd.databricks.v1+cell": {
     "cellMetadata": {},
     "inputWidgets": {},
     "nuid": "2784bdf3-fc67-421e-b339-6b27430c70d8",
     "showTitle": false,
     "tableResultSettingsMap": {},
     "title": ""
    }
   },
   "source": [
    "\n",
    "# 7) Discussão sobre Limitações e Melhorias Futuras\n",
    "Como a análise foi feita a partir de dados observacionais, sem um ambiente experimental totalmente controlado, é importante reconhecer algumas limitações da abordagem que adotei e apontar como eu poderia evoluir a solução em versões futuras.\n",
    "\n",
    "\n",
    "## 7.1) Ruído na Janela de Cálculo da Variável Alvo\n",
    "A variável alvo (`spend_next_X_days`) foi calculada em um contexto de negócio real, onde os clientes podem ser impactados por outras campanhas ou fatores externos durante a janela de observação. Isso torna difícil isolar o efeito de uma única oferta.\n",
    "\n",
    "Mesmo assim, optei por seguir com essa abordagem por ela refletir melhor o cenário real. Meu objetivo não era prever em um ambiente artificial de laboratório, mas entender se, **mesmo diante de múltiplas interações e ruídos**, o envio de uma oferta específica ainda poderia aumentar o gasto do cliente. Dessa forma, o modelo aprende a capturar padrões no ecossistema complexo em que o cliente está inserido.\n",
    "\n",
    "\n",
    "## 7.2) Potencial Viés de Seleção no Envio de Ofertas\n",
    "Ao comparar cenários \"com\" e \"sem\" oferta, existe uma suposição implícita de que os grupos são equivalentes. Porém, sei que o envio de ofertas não acontece de forma aleatória. Perfis específicos como novos clientes ou usuários em risco de churn têm maior chance de receber incentivos, o que gera um **viés de seleção**.\n",
    "\n",
    "Minha ideia inicial era implementar o **Propensity Score Matching (PSM)** justamente para mitigar esse problema, criando grupos de comparação mais justos. Porém, por questão de tempo, deixei essa implementação planejada como um incremento futuro caso sobrasse tempo, o que não foi possível executar dentro do escopo deste case.\n",
    "\n",
    "\n",
    "## 7.3) Possível Influência de Ofertas Anteriores na Baseline\n",
    "A tabela `abt_baseline` foi construída considerando os dias em que o cliente não recebeu novas ofertas. No entanto, pode acontecer de uma oferta enviada anteriormente ainda estar influenciando o comportamento do cliente nesse período, o que afeta a noção de um dia totalmente \"sem impacto\".\n",
    "\n",
    "Optei por seguir com essa definição mais simples de baseline, pois ela já captura o comportamento médio do cliente em dias sem estímulos recentes, mesmo que ainda exista alguma influência de interações passadas.\n",
    "\n",
    "\n",
    "## 7.4) Segmentação de Clientes\n",
    "Outra melhoria que eu considerei foi criar uma segmentação de clientes para permitir comparações entre diferentes perfis de comportamento. Isso poderia ser feito, por exemplo, a partir de uma análise **RFM** (Recência, Frequência e Valor Monetário) usando as features já construídas, ou ainda a partir das informações cadastrais disponíveis em `profile`.\n",
    "\n",
    "Essa segmentação possibilitaria entender melhor como diferentes tipos de clientes reagem às ofertas, trazendo insights adicionais além da modelagem preditiva individual. No entanto, por questão de tempo, não consegui implementar essa etapa dentro do escopo atual.\n",
    "\n",
    "\n",
    "## 7.5) Explorar mais *feature engineering*\n",
    "Por limitação de tempo, não foi possível criar muitas variáveis, já que o aumento de features eleva o tempo de modelagem. No entanto, seria viável gerar variáveis adicionais, como *lags* (comportamento dos dias anteriores) e combinar features para criar indicadores de tendência, por exemplo: \n",
    "\n",
    "*ticket_medio_last_3d / ticket_medio_last_7d*, que indicaria se o ticket médio do cliente tem aumentado ou diminuído nos últimos dias.\n"
   ]
  }
 ],
 "metadata": {
  "application/vnd.databricks.v1+notebook": {
   "computePreferences": {
    "hardware": {
     "accelerator": null,
     "gpuPoolId": null,
     "memory": null
    }
   },
   "dashboards": [],
   "environmentMetadata": {
    "base_environment": "",
    "environment_version": "3"
   },
   "inputWidgetPreferences": null,
   "language": "python",
   "notebookMetadata": {
    "pythonIndentUnit": 4
   },
   "notebookName": "1_data_processing",
   "widgets": {}
  },
  "language_info": {
   "name": "python"
  }
 },
 "nbformat": 4,
 "nbformat_minor": 0
}